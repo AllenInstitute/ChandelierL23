{
 "cells": [
  {
   "cell_type": "code",
   "execution_count": null,
   "metadata": {},
   "outputs": [],
   "source": [
    "from common_preamble import *\n",
    "from scipy import stats"
   ]
  },
  {
   "cell_type": "code",
   "execution_count": null,
   "metadata": {},
   "outputs": [],
   "source": [
    "arbor_ais_df = pd.read_hdf('../data/arbor_ais_data.h5', 'v185')\n",
    "ais_synapse_data_all = pd.read_hdf(os.path.abspath('../data/ais_synapse_data_all_v185.h5'), 'data')"
   ]
  },
  {
   "cell_type": "markdown",
   "metadata": {},
   "source": [
    "#### Set the AIS length to analyze"
   ]
  },
  {
   "cell_type": "code",
   "execution_count": null,
   "metadata": {},
   "outputs": [],
   "source": [
    "from ais_synapse_utils import aggregate_ais_dataframes\n",
    "complete_ais_ids = np.unique(ais_synapse_data['post_pt_root_id'])\n",
    "ais_id_to_analyze = np.unique(ais_synapse_data['post_pt_root_id'])\n",
    "\n",
    "ais_synapse_filter = ais_synapse_data['d_top_skel'] < min_ais_len\n",
    "ais_synapse_data_f = ais_synapse_data[ais_synapse_filter]\n",
    "\n",
    "aggregated_ais_syn_df = aggregate_ais_dataframes(complete_ais_ids, ais_synapse_data_f)\n",
    "aggregated_ais_syn_df = aggregated_ais_syn_df[aggregated_ais_syn_df['ais_len'] >= min_ais_len].reset_index()"
   ]
  },
  {
   "cell_type": "markdown",
   "metadata": {},
   "source": [
    "### Plotting"
   ]
  },
  {
   "cell_type": "code",
   "execution_count": null,
   "metadata": {},
   "outputs": [],
   "source": [
    "plot_label_lookup = {'syn_net_chc': '# ChC Syn.',\n",
    "                     'syn_net_non': '# Non-ChC Syn.',\n",
    "                     'size_net_chc': 'Net ChC Syn. Size',\n",
    "                     'soma_y_adj': 'Soma Depth ($\\mu m$)',\n",
    "                     'soma_y_um': 'Soma Depth ($\\mu m$)',\n",
    "                     'soma_x_um': 'Soma Mediolateral Pos. ($\\mu m$)',\n",
    "                     'n_syn_soma': '# Syn Soma',\n",
    "                     'soma_synapses': '# Syn Soma',\n",
    "                     'soma_area': 'Soma Area ($\\mu m^2$)',\n",
    "                     'soma_syn_density': '# Syn Soma/($\\mu m^2$)',\n",
    "                     'num_cells_chc': '# ChC Connections',\n",
    "                     'syn_mean_chc': '# Syn/Connection',\n",
    "                     'conn_frac': 'Connectivity Fraction',\n",
    "                     'num_potential': '# Potential ChC',\n",
    "                     'size_mean_chc': 'Mean ChC Syn Size',\n",
    "                     'pca_2': 'Soma Size Comp.',\n",
    "                     'pca_0': 'Soma Depth Comp.',\n",
    "                     'pca_1': 'Soma Inhibition Comp.',\n",
    "                     'pca_3': 'PC 3',\n",
    "                     'pca_4': 'PC 4',\n",
    "                     'ais_radius': 'AIS Radius',\n",
    "                     'syn_max_chc': 'Max Syn ChC',\n",
    "                    }"
   ]
  },
  {
   "cell_type": "code",
   "execution_count": null,
   "metadata": {},
   "outputs": [],
   "source": [
    "def nan_pearsonr(x,y):\n",
    "    good_data_x = np.logical_and(~np.isnan(x), ~np.isinf(x))\n",
    "    good_data_y = np.logical_and(~np.isnan(y), ~np.isinf(y))\n",
    "    good_data = np.logical_and(good_data_x, good_data_y)\n",
    "    return stats.pearsonr(x[good_data], y[good_data])"
   ]
  },
  {
   "cell_type": "code",
   "execution_count": null,
   "metadata": {},
   "outputs": [],
   "source": [
    "row_filter = (arbor_ais_df['label']>1) & (~np.isnan(arbor_ais_df['soma_area']))\n",
    "\n",
    "figsize = (2, 2)\n",
    "\n",
    "arbor_ais_df['soma_y_adj'] = arbor_ais_df['soma_y_um']\n",
    "common_y = ['soma_y_adj', 'n_syn_soma', 'soma_x_um']\n",
    "if 'label' in arbor_ais_df.columns:\n",
    "    common_y += ['soma_synapses', 'soma_area', 'soma_syn_density', 'ais_radius']\n",
    "\n",
    "col_pairs = {'syn_net_chc': ['syn_net_non', 'num_cells_chc', 'syn_mean_chc'] + common_y,\n",
    "             'syn_net_non': ['syn_net_chc'] + common_y,\n",
    "             'syn_mean_chc': ['num_cells_chc'] + common_y,\n",
    "             'num_cells_chc': ['syn_mean_chc'] + common_y,\n",
    "             }\n",
    "invert_columns = ['soma_y_adj']\n",
    "tickintdict = {'soma_syn_density': False, 'syn_mean_chc': False}\n",
    "\n",
    "tick_dict = {'syn_net_chc': np.arange(0,27,5),\n",
    "             'syn_net_non': np.arange(0,27,5),\n",
    "             'soma_y_adj': np.arange(0, 121, 20),\n",
    "             'soma_x_um': np.arange(0, 251, 50),\n",
    "             'n_syn_soma': np.arange(60,161,20),\n",
    "             'soma_synapses': np.arange(40, 121, 20),\n",
    "             'soma_area': np.arange(450, 801, 100),\n",
    "             'soma_syn_density': np.arange(0.06, 0.181, 0.02),\n",
    "             'num_cells_chc': np.arange(0,10,2),\n",
    "             'syn_mean_chc': np.arange(0,8.1,2),\n",
    "             'ais_radius': np.arange(175, 376, 50)}\n",
    "\n",
    "xprecision = {'soma_syn_density': 2}\n",
    "\n",
    "needs_label = ['soma_synapses', 'soma_area', 'soma_syn_density']\n",
    "for y in col_pairs:\n",
    "    for x in col_pairs.get(y):\n",
    "        if x in needs_label or y in needs_label:\n",
    "            use_df = arbor_ais_df[row_filter]\n",
    "        else:\n",
    "            use_df = arbor_ais_df\n",
    "        fig, ax = make_scatterplot(x, y, use_df,\n",
    "                                   figsize, plot_label_lookup, tick_dict,\n",
    "                                   xtick_int=tickintdict.get(x, True),\n",
    "                                   ytick_int=tickintdict.get(y, True),\n",
    "                                   xprecision=xprecision.get(x, 1))\n",
    "        ax.set_title(f'R = {nan_pearsonr(use_df[x], use_df[y])[0]:.2f}')\n",
    "#         fig.savefig(fname=plot_dir+'/scatterplots_{y}_vs_{x}.pdf'.format(x=x, y=y), bbox_inches=\"tight\")"
   ]
  },
  {
   "cell_type": "code",
   "execution_count": null,
   "metadata": {},
   "outputs": [],
   "source": [
    "corr_matrix_columns = [\n",
    " 'soma_synapses',\n",
    " 'soma_area',\n",
    " 'soma_syn_density',\n",
    " 'syn_net_non',\n",
    " 'ais_radius',\n",
    " 'soma_y_um']\n",
    "\n",
    "extra_corr_matrix_columns = ['syn_net_chc']+corr_matrix_columns\n",
    "ais_item_data = arbor_ais_df[row_filter][extra_corr_matrix_columns]\n",
    "\n",
    "corr_mat = np.zeros((len(extra_corr_matrix_columns), len(extra_corr_matrix_columns)))\n",
    "corr_mat_p = np.zeros((len(extra_corr_matrix_columns), len(extra_corr_matrix_columns)))\n",
    "for ii in range(len(extra_corr_matrix_columns)):\n",
    "    for jj in range(len(extra_corr_matrix_columns)):\n",
    "        r, p = nan_pearsonr(ais_item_data[extra_corr_matrix_columns[ii]], ais_item_data[extra_corr_matrix_columns[jj]])\n",
    "        corr_mat[ii,jj] = r\n",
    "        corr_mat_p[ii,jj] = p"
   ]
  },
  {
   "cell_type": "code",
   "execution_count": null,
   "metadata": {},
   "outputs": [],
   "source": [
    "from statsmodels.stats import multitest\n",
    "is_sig, corr_p, _, _ = multitest.multipletests(corr_mat_p[np.tril_indices_from(corr_mat, k=-1)])\n",
    "tri_inds = np.tril_indices_from(corr_mat, k=-1)\n",
    "put_star = []\n",
    "for ii, jj, sig in zip(*tri_inds, is_sig):\n",
    "    if sig:\n",
    "        put_star.append([ii, jj])\n",
    "put_star = np.array(put_star)"
   ]
  },
  {
   "cell_type": "code",
   "execution_count": null,
   "metadata": {},
   "outputs": [],
   "source": [
    "do_plot = False \n",
    "\n",
    "mask = np.zeros_like(corr_mat, dtype=np.bool)\n",
    "mask[np.tril_indices_from(mask)] = True\n",
    "\n",
    "cmap = sns.color_palette('RdBu', n_colors=31)\n",
    "fig, ax = plt.subplots(figsize=(6,6))\n",
    "sns.heatmap(corr_mat, mask=mask, cmap=cmap, vmax=.3, center=0,\n",
    "            square=True, linewidths=.5, cbar_kws={\"shrink\": .5}, ax=ax)\n",
    "ax.plot(put_star[:,0]+0.5, put_star[:,1]+0.5, 'k*')\n",
    "ax.set_yticks(np.arange(0.5, len(extra_corr_matrix_columns)-1+0.5))\n",
    "_=ax.set_yticklabels([plot_label_lookup[x] for x in extra_corr_matrix_columns[:-1]], rotation=0)\n",
    "\n",
    "ax.set_xticks(np.arange(1.5, len(extra_corr_matrix_columns)+0.5))\n",
    "_=ax.set_xticklabels([plot_label_lookup[x] for x in extra_corr_matrix_columns[1:]], rotation=45)\n",
    "ax.xaxis.tick_top()\n",
    "if do_plot is True:\n",
    "    fig.savefig(f'{plot_dir}/variable_correlation_structure.pdf', bbox_inches='tight')"
   ]
  },
  {
   "cell_type": "code",
   "execution_count": null,
   "metadata": {},
   "outputs": [],
   "source": [
    "from sklearn.decomposition import *\n",
    "\n",
    "ais_item_data = arbor_ais_df[row_filter][corr_matrix_columns]\n",
    "Xdat = ais_item_data.values\n",
    "Xz = stats.zscore(Xdat, axis=0)\n",
    "\n",
    "pca = FastICA(n_components=3, random_state=1004 )\n",
    "\n",
    "Xz_pca = pca.fit_transform(Xz)\n",
    "\n",
    "for ii in range(pca.n_components):\n",
    "    if pca.components_[ii,np.argmax(np.abs(pca.components_[ii,:]))] < 0:   # If the dominant component is negative\n",
    "        pca.components_[ii, :] = -1 * pca.components_[ii, :]\n",
    "        Xz_pca[:,ii] = -1 * Xz_pca[:,ii]\n",
    "\n",
    "do_plot = False\n",
    "for ii in range(pca.n_components):\n",
    "    fig, ax = plt.subplots(figsize=(1,2))\n",
    "    ax.barh(np.arange(pca.components_.shape[1]), pca.components_[ii,:], height=0.5, color='k')\n",
    "    ax.vlines(0, -1, 6, linewidth=1)\n",
    "    ax.set_ylim((-0.5, 5.5))\n",
    "    ax.set_yticks(np.arange(pca.components_.shape[1]))\n",
    "    ax.set_yticklabels([plot_label_lookup[x] for x in corr_matrix_columns])\n",
    "    ax.invert_yaxis()\n",
    "    maxval=np.max(np.abs(pca.components_[ii,:]))\n",
    "    ax.set_xlim((-maxval, maxval))\n",
    "    ax.set_xticks((-maxval, 0, maxval))\n",
    "    ax.set_xticklabels((f'{-maxval:0.2f}', '0', f'{maxval:0.2f}'))\n",
    "    sns.despine(ax=ax, offset=5, trim=True)\n",
    "    ax.set_title(f'PC {ii}')\n",
    "    if do_plot:\n",
    "        fig.savefig(f'{plot_dir}/factor_component_{ii}.pdf', bbox_inches='tight')"
   ]
  },
  {
   "cell_type": "code",
   "execution_count": null,
   "metadata": {},
   "outputs": [],
   "source": [
    "arbor_ais_df_use = arbor_ais_df[row_filter]\n",
    "for ii in np.arange(pca.n_components):\n",
    "    arbor_ais_df_use[f'pca_{ii}'] = Xz_pca[:,ii]"
   ]
  },
  {
   "cell_type": "code",
   "execution_count": null,
   "metadata": {},
   "outputs": [],
   "source": [
    "row_filter_true = arbor_ais_df_use['post_pt_root_id']>0"
   ]
  },
  {
   "cell_type": "code",
   "execution_count": null,
   "metadata": {},
   "outputs": [],
   "source": [
    "do_save= False\n",
    "ls_prefix = {True: 'rls', False: 'ols'}\n",
    "\n",
    "for use_robust in [True, False]:\n",
    "    ### Same for good soma cutout\n",
    "    base_variables = [f'pca_{ii}' for ii in range(pca.n_components)]\n",
    "\n",
    "    y_col = 'syn_net_chc'\n",
    "    columns_chc = base_variables\n",
    "    fig, ax, res_df, _ = ols_analysis_single(arbor_ais_df_use, row_filter_true, 'syn_net_chc', columns_chc[::-1], chc_color, robust=use_robust, plot_label_lookup=plot_label_lookup, xticks=np.arange(-0.75,.76,0.25))\n",
    "    if do_save:\n",
    "        res_df.to_csv(f'{plot_dir}/{ls_prefix[use_robust]}_fit_factor_analysis_{y_col}.csv'.format(y_col), index=False)\n",
    "        fig.savefig(f'{plot_dir}/{ls_prefix[use_robust]}_fit_factor_analysis_{y_col}.pdf'.format(y_col), bbox_inches=\"tight\")\n",
    "        residual_scatterplots(y_col, columns_chc, row_filter_true, arbor_ais_df_use, 'exact', plot_dir, plot_label_lookup=plot_label_lookup, robust=use_robust)\n",
    "    \n",
    "    y_col = 'size_net_chc'\n",
    "    columns_chc = base_variables\n",
    "    fig, ax, res_df, _ = ols_analysis_single(arbor_ais_df_use, row_filter_true, y_col, columns_chc[::-1], chc_color, robust=use_robust, plot_label_lookup=plot_label_lookup, xticks=np.arange(-0.75,.76,0.25))\n",
    "    if do_save:\n",
    "        res_df.to_csv(f'{plot_dir}/{ls_prefix[use_robust]}_fit_factor_analysis_{y_col}.csv'.format(y_col), index=False)\n",
    "        fig.savefig(f'{plot_dir}/{ls_prefix[use_robust]}_fit_factor_analysis_{y_col}.pdf'.format(y_col), bbox_inches=\"tight\")\n",
    "        residual_scatterplots(y_col, columns_chc, row_filter_true, arbor_ais_df_use, 'exact', plot_dir, plot_label_lookup=plot_label_lookup, robust=use_robust)\n",
    "\n",
    "    y_col = 'syn_mean_chc'\n",
    "    columns_mean = base_variables\n",
    "    fig, ax, res_df, _ = ols_analysis_single(arbor_ais_df_use, row_filter_true, y_col, columns_mean[::-1], syn_per_conn_color, robust=use_robust, plot_label_lookup=plot_label_lookup, xticks=np.arange(-0.75,.76,0.25))\n",
    "    if do_save:\n",
    "        res_df.to_csv(f'{plot_dir}/{ls_prefix[use_robust]}_fit_factor_analysis_{y_col}.csv'.format(y_col), index=False)\n",
    "        fig.savefig(f'{plot_dir}/{ls_prefix[use_robust]}_fit_factor_analysis_{y_col}.pdf'.format(y_col), bbox_inches=\"tight\")\n",
    "        residual_scatterplots(y_col, columns_chc, row_filter_true, arbor_ais_df_use, 'exact', plot_dir, plot_label_lookup=plot_label_lookup, robust=use_robust)\n",
    "\n",
    "    y_col = 'num_cells_chc'\n",
    "    columns_num = base_variables\n",
    "    fig, ax, res_df, _ = ols_analysis_single(arbor_ais_df_use, row_filter_true, y_col, columns_num[::-1], num_conn_color, robust=use_robust, plot_label_lookup=plot_label_lookup, xticks=np.arange(-0.75,.76,0.25))\n",
    "    if do_save:\n",
    "        res_df.to_csv(f'{plot_dir}/{ls_prefix[use_robust]}_fit_factor_analysis_{y_col}.csv'.format(y_col), index=False)\n",
    "        fig.savefig(f'{plot_dir}/{ls_prefix[use_robust]}_fit_factor_analysis_{y_col}.pdf'.format(y_col), bbox_inches=\"tight\")\n",
    "        residual_scatterplots(y_col, columns_chc, row_filter_true, arbor_ais_df_use, 'exact', plot_dir, plot_label_lookup=plot_label_lookup, robust=use_robust)\n"
   ]
  },
  {
   "cell_type": "code",
   "execution_count": null,
   "metadata": {},
   "outputs": [],
   "source": [
    "for ycol in ['syn_net_chc', 'syn_mean_chc', 'num_cells_chc']:\n",
    "    for xcol in base_variables:\n",
    "        for use_robust in [True, False]:\n",
    "            fig, ax = plt.subplots(figsize=(3,3))\n",
    "            sns.regplot(x=xcol, y=ycol, data=arbor_ais_df_use, ax=ax, marker='o', color='k', scatter_kws={'s':8, 'color':(0.3, 0.3, 0.3)}, robust=use_robust, n_boot=100)\n",
    "            sns.despine(ax=ax, offset=5)\n",
    "            ax.set_xlabel(plot_label_lookup[xcol])\n",
    "            ax.set_ylabel(plot_label_lookup[ycol])\n",
    "            r=nan_pearsonr(arbor_ais_df_use[xcol], arbor_ais_df_use[ycol])[0]\n",
    "            ax.set_title(f'R$^2$={r*r:.2f}')\n",
    "            # fig.savefig(f'{plot_dir}/linear_plot_robust_{use_robust}_{ycol}_vs_{xcol}.pdf')"
   ]
  },
  {
   "cell_type": "markdown",
   "metadata": {},
   "source": [
    "---"
   ]
  },
  {
   "cell_type": "markdown",
   "metadata": {},
   "source": [
    "---\n",
    "### Spatial considerations"
   ]
  },
  {
   "cell_type": "code",
   "execution_count": null,
   "metadata": {},
   "outputs": [],
   "source": [
    "d_vec = [5000, 7500, 10000, 15000]\n",
    "\n",
    "tick_dict = {'syn_net_chc': np.arange(0,27,5),\n",
    "             'syn_net_non': np.arange(0,27,5),\n",
    "             'soma_y_adj': np.arange(0, 121, 20),\n",
    "             'soma_x_um': np.arange(0, 251, 50),\n",
    "             'n_syn_soma': np.arange(60,161,20),\n",
    "             'soma_synapses': np.arange(40, 121, 20),\n",
    "             'soma_area': np.arange(500, 901, 100),\n",
    "             'soma_syn_density': np.arange(0.05, 0.15, 0.02),\n",
    "             'num_cells_chc': np.arange(0,10,2.5),\n",
    "             'syn_mean_chc': np.arange(0,8,2),\n",
    "             'conn_frac': np.arange(0,1.01,0.2),\n",
    "             'num_potential': np.arange(0, 21, 5),\n",
    "             }\n"
   ]
  },
  {
   "cell_type": "code",
   "execution_count": null,
   "metadata": {},
   "outputs": [],
   "source": [
    "with open('../data/in/is_potential_ds.pkl', 'rb') as f:\n",
    "    is_potential_ds = pickle.load(f)"
   ]
  },
  {
   "cell_type": "code",
   "execution_count": null,
   "metadata": {},
   "outputs": [],
   "source": [
    "fraction_cutoff = 0.1\n",
    "d_max = 7500 \n",
    "is_potential = is_potential_ds[d_max]\n",
    "\n",
    "num_pot_df = pd.DataFrame({'pyc_root_id': complete_ais_ids, 'num_potential':[sum(is_potential[ii].values()) for ii in range(len(complete_ais_ids))]})\n",
    "arbor_ais_df_pot = arbor_ais_df_use.merge(num_pot_df, left_on='post_pt_root_id', right_on='pyc_root_id', how='left').drop(columns=['pyc_root_id'])\n",
    "arbor_ais_df_pot['conn_frac'] = arbor_ais_df_pot['num_cells_chc'] / arbor_ais_df_pot['num_potential']\n",
    "mask_frac_df = pd.read_hdf('../data/mask_fraction_data_v185.hdf')\n",
    "ais_oid_within_limits = mask_frac_df[mask_frac_df['d_{}'.format(d_max)] < fraction_cutoff]['root_id']\n",
    "within_unmasked = np.isin(arbor_ais_df_pot['post_pt_root_id'], ais_oid_within_limits)\n",
    "arbor_ais_df_pot = arbor_ais_df_pot[within_unmasked]"
   ]
  },
  {
   "cell_type": "code",
   "execution_count": null,
   "metadata": {},
   "outputs": [],
   "source": [
    "use_df = arbor_ais_df_pot \n",
    "\n",
    "x = 'num_potential'\n",
    "y = 'syn_net_chc'\n",
    "fig, ax = make_scatterplot(x, y, arbor_ais_df_pot,\n",
    "                           figsize, plot_label_lookup, tick_dict,\n",
    "                           xtick_int=tickintdict.get(x, True),\n",
    "                           ytick_int=tickintdict.get(y, True),\n",
    "                           xprecision=xprecision.get(x, 1))\n",
    "ax.set_title(f'R = {nan_pearsonr(use_df[x], use_df[y])[0]:.2f}')\n",
    "# fig.savefig(fname=f'{plot_dir}/scatterplots_{y}_vs_{x}.pdf', bbox_inches=\"tight\")\n",
    "\n",
    "x = 'conn_frac'\n",
    "y = 'syn_net_chc'\n",
    "fig, ax = make_scatterplot(x, y, arbor_ais_df_pot,\n",
    "                           figsize, plot_label_lookup, tick_dict,\n",
    "                           xtick_int=tickintdict.get(x, True),\n",
    "                           ytick_int=tickintdict.get(y, True),\n",
    "                           xprecision=xprecision.get(x, 1))\n",
    "ax.set_title(f'R = {nan_pearsonr(use_df[x], use_df[y])[0]:.2f}')\n",
    "# fig.savefig(fname=f'{plot_dir}/scatterplots_{y}_vs_{x}.pdf', bbox_inches=\"tight\")\n",
    "\n",
    "x = 'conn_frac'\n",
    "y = 'num_potential'\n",
    "fig, ax = make_scatterplot(x, y, arbor_ais_df_pot,\n",
    "                           figsize, plot_label_lookup, tick_dict,\n",
    "                           xtick_int=tickintdict.get(x, True),\n",
    "                           ytick_int=tickintdict.get(y, True),\n",
    "                           xprecision=xprecision.get(x, 1))\n",
    "ax.set_title(f'R = {nan_pearsonr(use_df[x], use_df[y])[0]:.2f}')\n",
    "# fig.savefig(fname=f'{plot_dir}/scatterplots_{y}_vs_{x}.pdf', bbox_inches=\"tight\")"
   ]
  },
  {
   "cell_type": "code",
   "execution_count": null,
   "metadata": {},
   "outputs": [],
   "source": [
    "fraction_cutoff = 0.1\n",
    "figsize = (2, 2)\n",
    "\n",
    "n_pot_dist = {}\n",
    "base_variables = ['pca_0', 'pca_1', 'pca_2']\n",
    "data_dir = '../data'\n",
    "\n",
    "for d_max in d_vec[0:1]:\n",
    "\n",
    "    is_potential = is_potential_ds[d_max]\n",
    "\n",
    "    num_pot_df = pd.DataFrame({'pyc_root_id': complete_ais_ids, 'num_potential':[sum(is_potential[ii].values()) for ii in range(len(complete_ais_ids))]})\n",
    "    arbor_ais_df_pot = arbor_ais_df_use.merge(num_pot_df, left_on='post_pt_root_id', right_on='pyc_root_id', how='left').drop(columns=['pyc_root_id'])\n",
    "    arbor_ais_df_pot['conn_frac'] = arbor_ais_df_pot['num_cells_chc'] / arbor_ais_df_pot['num_potential']\n",
    "\n",
    "    mask_frac_df = pd.read_hdf(data_dir + '/mask_fraction_data_v{}.hdf'.format(data_version))\n",
    "    ais_oid_within_limits = mask_frac_df[mask_frac_df['d_{}'.format(d_max)] < fraction_cutoff]['root_id']\n",
    "    within_unmasked = np.isin(arbor_ais_df_pot['post_pt_root_id'], ais_oid_within_limits)\n",
    "\n",
    "    fig, ax = plt.subplots(figsize=figsize)\n",
    "    ax.hist(arbor_ais_df_pot[within_unmasked]['conn_frac'], bins=np.arange(0,1.01,0.1), edgecolor='w', color='k')\n",
    "    ax.grid(True, axis='y')\n",
    "    ax.set_axisbelow(True)\n",
    "    sns.despine(offset=2, trim=False, ax=ax)\n",
    "    ax.set_xlabel('Connectivity fraction')\n",
    "    ax.set_yticks(np.arange(0,31,5))\n",
    "    ax.set_ylabel('# AISes')\n",
    "\n",
    "    # fig.savefig(fname=plot_dir+'/connectivity_fraction_histogram_dmax_{}.pdf'.format(d_max), bbox_inches=\"tight\")\n",
    "\n",
    "    conn_fract_described_df = arbor_ais_df_pot[within_unmasked]['conn_frac'].describe(percentiles=[0.5])\n",
    "    # conn_fract_described_df.to_csv(plot_dir + '/connectivity_fraction_summary_v{}_dmax_{}.csv'.format(data_version, d_max))\n",
    "\n",
    "    \n",
    "    n_pot_dist[d_max] = arbor_ais_df_pot[['post_pt_root_id', 'num_potential', 'num_cells_chc', 'size_net_chc']].rename(columns={'num_potential':'num_potential_{}'.format(d_max),\n",
    "                                                                                             'num_cells_chc': 'num_cells_chc_{}'.format(d_max),\n",
    "                                                                                             'size_net_chc': 'size_net_chc_{}'.format(d_max),\n",
    "                                                                                             'post_pt_root_id': 'post_pt_root_id_{}'.format(d_max)})\n",
    "    n_pot_dist[d_max]['within_data_{}'.format(d_max)] = within_unmasked\n",
    "    \n",
    "    common_y = ['soma_y_adj', 'n_syn_soma', 'syn_net_non', 'soma_x_um']\n",
    "    if 'label' in arbor_ais_df.columns:\n",
    "        common_y += ['n_syn_soma', 'soma_syn_density']\n",
    "\n",
    "    new_col_pairs = {}\n",
    "    new_col_pairs['conn_frac'] = common_y\n",
    "    new_col_pairs['num_potential'] = common_y\n",
    "\n",
    "    tickintdict['conn_frac'] = False\n",
    "\n",
    "    \n",
    "    #### OLS plots\n",
    "    \n",
    "    for use_robust in [True, False]:\n",
    "        y_col = 'conn_frac'\n",
    "        columns_frac = base_variables\n",
    "        fig, ax, res_df, _ = ols_analysis_single(arbor_ais_df_pot, within_unmasked, y_col, columns_frac[::-1], conn_frac_color,\n",
    "                                              robust=use_robust, xticks=np.arange(-0.75,.76,0.25), plot_label_lookup=plot_label_lookup)\n",
    "        # res_df.to_csv(f'{plot_dir}/{ls_prefix[use_robust]}_fit_factor_analysis_{y_col}_d{d_max}.csv'.format(y_col), index=False)\n",
    "        # fig.savefig(f'{plot_dir}/{ls_prefix[use_robust]}_fit_factor_analysis_{y_col}_d{d_max}.pdf', bbox_inches=\"tight\")\n",
    "\n",
    "        y_col = 'num_potential'\n",
    "        columns_pot = base_variables\n",
    "        fig, ax, res_df,_ = ols_analysis_single(arbor_ais_df_pot, within_unmasked, y_col, columns_pot[::-1], num_pot_color,\n",
    "                                              robust=use_robust, xticks=np.arange(-0.75,.76,0.25), plot_label_lookup=plot_label_lookup)\n",
    "        # res_df.to_csv(f'{plot_dir}/{ls_prefix[use_robust]}_fit_factor_analysis_{y_col}_d{d_max}.csv'.format(y_col), index=False)\n",
    "        # fig.savefig(f'{plot_dir}/{ls_prefix[use_robust]}_fit_factor_analysis_{y_col}_d{d_max}.pdf', bbox_inches=\"tight\")\n",
    "\n",
    "        for ycol in ['conn_frac', 'num_potential']:\n",
    "            for xcol in base_variables:\n",
    "                for use_robust in [True, False]:\n",
    "                    fig, ax = plt.subplots(figsize=(3,3))\n",
    "                    sns.regplot(x=xcol, y=ycol, data=arbor_ais_df_pot, ax=ax, marker='o', color='k', scatter_kws={'s':8, 'color':(0.3, 0.3, 0.3)}, robust=use_robust, n_boot=300)\n",
    "                    sns.despine(ax=ax, offset=5)\n",
    "                    ax.set_xlabel(plot_label_lookup[xcol])\n",
    "                    ax.set_ylabel(plot_label_lookup[ycol])\n",
    "                    r=nan_pearsonr(arbor_ais_df_pot[xcol], arbor_ais_df_pot[ycol])[0]\n",
    "                    ax.set_title(f'R$^2$={r*r:.2f}')\n",
    "                    # fig.savefig(f'{plot_dir}/linear_plot_robust_{use_robust}_{ycol}_vs_{xcol}.pdf')\n",
    "                    residual_scatterplots(ycol, base_variables, arbor_ais_df_pot['post_pt_root_id']>0, arbor_ais_df_pot, 'exact', plot_dir, plot_label_lookup=plot_label_lookup, robust=use_robust)\n"
   ]
  },
  {
   "cell_type": "code",
   "execution_count": null,
   "metadata": {},
   "outputs": [],
   "source": [
    "dend_df = pd.read_hdf(base_dir+'/data/in/spatial_arbor_synapses_v185.h5', 'arbor_synapse_df')"
   ]
  },
  {
   "cell_type": "code",
   "execution_count": null,
   "metadata": {},
   "outputs": [],
   "source": [
    "sns.scatterplot(x='dend_syn', y='dend_area', data=dend_df)"
   ]
  },
  {
   "cell_type": "code",
   "execution_count": null,
   "metadata": {},
   "outputs": [],
   "source": [
    "dend_df['dend_syn_density'] = dend_df['dend_syn'] / dend_df['dend_area']"
   ]
  },
  {
   "cell_type": "code",
   "execution_count": null,
   "metadata": {},
   "outputs": [],
   "source": [
    "arbor_ais_density_df = arbor_ais_df_pot.merge(dend_df[['pt_root_id', 'dend_syn_density']], left_on='post_pt_root_id', right_on='pt_root_id', how='inner')"
   ]
  },
  {
   "cell_type": "code",
   "execution_count": null,
   "metadata": {},
   "outputs": [],
   "source": [
    "plot_label_lookup['dend_syn_density'] = 'Dend Syn. Density ($1/\\mu m^2$)'\n",
    "tick_dict['dend_syn_density'] = np.arange(0.19, 0.35, 0.03)\n",
    "\n",
    "fig, ax = make_scatterplot('dend_syn_density', 'syn_net_chc', arbor_ais_density_df,\n",
    "                           (2,2), plot_label_lookup, tick_dict,\n",
    "                           xtick_int=False,\n",
    "                           ytick_int=tickintdict.get(y, True),\n",
    "                           xprecision=2)\n",
    "fig.savefig(plot_dir + '/scatterplots_{}_v_{}.pdf'.format('dend_syn_density', 'syn_net_chc'), bbox_inches='tight')"
   ]
  },
  {
   "cell_type": "code",
   "execution_count": null,
   "metadata": {},
   "outputs": [],
   "source": [
    "stats.pearsonr(arbor_ais_density_df['dend_syn_density'], arbor_ais_density_df['syn_net_chc'])"
   ]
  },
  {
   "cell_type": "code",
   "execution_count": null,
   "metadata": {},
   "outputs": [],
   "source": [
    "plot_label_lookup['dend_syn_density'] = 'Dend Syn. Density ($1/\\mu m^2$)'\n",
    "tick_dict['dend_syn_density'] = np.arange(0.22, 0.32, 0.03)\n",
    "\n",
    "fig, ax = make_scatterplot('dend_syn_density', 'syn_net_non', arbor_ais_density_df,\n",
    "                           (2,2), plot_label_lookup, tick_dict,\n",
    "                           xtick_int=False,\n",
    "                           ytick_int=tickintdict.get(y, True),\n",
    "                           xprecision=2)\n",
    "fig.savefig(plot_dir + '/scatterplots_{}_v_{}.pdf'.format('dend_syn_density', 'syn_net_non'), bbox_inches='tight')"
   ]
  },
  {
   "cell_type": "code",
   "execution_count": null,
   "metadata": {},
   "outputs": [],
   "source": []
  },
  {
   "cell_type": "code",
   "execution_count": null,
   "metadata": {},
   "outputs": [],
   "source": [
    "ais_synapse_data_all"
   ]
  },
  {
   "cell_type": "code",
   "execution_count": null,
   "metadata": {},
   "outputs": [],
   "source": [
    "arbor_ais_density_df.columns"
   ]
  },
  {
   "cell_type": "markdown",
   "metadata": {},
   "source": [
    "---"
   ]
  },
  {
   "cell_type": "code",
   "execution_count": null,
   "metadata": {},
   "outputs": [],
   "source": [
    "arbor_ais_df.columns"
   ]
  },
  {
   "cell_type": "code",
   "execution_count": null,
   "metadata": {},
   "outputs": [],
   "source": [
    "plot_label_lookup['ais_radius'] = 'AIS rad ($\\mu m$)'"
   ]
  },
  {
   "cell_type": "code",
   "execution_count": null,
   "metadata": {},
   "outputs": [],
   "source": [
    "fraction_cutoff = 0.1\n",
    "figsize = (2, 2)\n",
    "use_robust = False\n",
    "\n",
    "n_pot_dist = {}\n",
    "\n",
    "for d_max in d_vec:\n",
    "\n",
    "    is_potential = is_potential_ds[d_max]\n",
    "\n",
    "    num_pot_df = pd.DataFrame({'pyc_root_id': complete_ais_ids, 'num_potential':[sum(is_potential[ii].values()) for ii in range(len(complete_ais_ids))]})\n",
    "    arbor_ais_df_pot = arbor_ais_df_r.merge(num_pot_df, left_on='post_pt_root_id', right_on='pyc_root_id', how='left').drop(columns=['pyc_root_id'])\n",
    "    arbor_ais_df_pot['conn_frac'] = arbor_ais_df_pot['num_cells_chc'] / arbor_ais_df_pot['num_potential']\n",
    "\n",
    "    mask_frac_df = pd.read_hdf(data_dir + '/mask_fraction_data_v{}.hdf'.format(data_version))\n",
    "    ais_oid_within_limits = mask_frac_df[mask_frac_df['d_{}'.format(d_max)] < fraction_cutoff]['root_id']\n",
    "    within_unmasked = np.isin(arbor_ais_df_pot['post_pt_root_id'], ais_oid_within_limits)\n",
    "\n",
    "    fig, ax = plt.subplots(figsize=figsize)\n",
    "    ax.hist(arbor_ais_df_pot[within_unmasked]['conn_frac'], bins=np.arange(0,1.01,0.1), edgecolor='w', color='k')\n",
    "    ax.grid(True, axis='y')\n",
    "    ax.set_axisbelow(True)\n",
    "    sns.despine(offset=2, trim=False, ax=ax)\n",
    "    ax.set_xlabel('Connectivity fraction')\n",
    "    ax.set_yticks(np.arange(0,31,5))\n",
    "    ax.set_ylabel('# AISes')\n",
    "\n",
    "    arbor_ais_df_pot['conn_frac'].describe()\n",
    "    fig.savefig(fname=plot_dir+'/connectivity_fraction_histogram_dmax_{}.pdf'.format(d_max), bbox_inches=\"tight\")\n",
    "\n",
    "    conn_fract_described_df = arbor_ais_df_pot[within_unmasked]['conn_frac'].describe(percentiles=[0.5])\n",
    "    conn_fract_described_df.to_csv(plot_dir + '/connectivity_fraction_summary_v{}_dmax_{}.csv'.format(data_version, d_max))\n",
    "\n",
    "    \n",
    "    n_pot_dist[d_max] = arbor_ais_df_pot[['post_pt_root_id', 'num_potential', 'num_cells_chc', 'size_net_chc']].rename(columns={'num_potential':'num_potential_{}'.format(d_max),\n",
    "                                                                                             'num_cells_chc': 'num_cells_chc_{}'.format(d_max),\n",
    "                                                                                             'size_net_chc': 'size_net_chc_{}'.format(d_max),\n",
    "                                                                                             'post_pt_root_id': 'post_pt_root_id_{}'.format(d_max)})\n",
    "    n_pot_dist[d_max]['within_data_{}'.format(d_max)] = within_unmasked\n",
    "    \n",
    "    common_y = ['soma_y_adj', 'n_syn_soma', 'syn_net_non', 'soma_x_um']\n",
    "    if 'label' in arbor_ais_df.columns:\n",
    "        common_y += ['soma_synapses', 'soma_syn_density']\n",
    "\n",
    "    new_col_pairs = {}\n",
    "    new_col_pairs['conn_frac'] = common_y\n",
    "    new_col_pairs['num_potential'] = common_y\n",
    "\n",
    "    tickintdict['conn_frac'] = False\n",
    "\n",
    "    for x in new_col_pairs:\n",
    "        for y in new_col_pairs.get(x):\n",
    "            fig, ax = make_scatterplot(y, x, arbor_ais_df_pot[within_unmasked],\n",
    "                                       figsize, plot_label_lookup, tick_dict,\n",
    "                                       xtick_int=tickintdict.get(y, True),\n",
    "                                       ytick_int=tickintdict.get(x, True),\n",
    "                                       xprecision=xprecision.get(y, 1))\n",
    "            fig.savefig(fname=plot_dir+'/scatterplots_{x}_vs_{y}_dmax_{d}.pdf'.format(x=x, y=y, d=d_max), bbox_inches=\"tight\")\n",
    "    \n",
    "    #### OLS plots\n",
    "    \n",
    "    y_col = 'conn_frac'\n",
    "    columns_frac =  ['n_syn_soma', 'soma_y_um', 'soma_x_um', 'syn_net_non', 'ais_radius', 'size_mean_chc']\n",
    "    fig, ax, res_df = ols_analysis_single(arbor_ais_df_pot, row_filter, y_col, columns_frac[::-1], conn_frac_color,\n",
    "                                          robust=use_robust, xticks=np.arange(-0.75,.76,0.25))\n",
    "    res_df.to_csv(plot_dir + '/ols_fit_{}_dmax_{}.csv'.format(y_col, d_max), index=False)\n",
    "    fig.savefig(plot_dir + '/ols_fit_{}_dmax_{}.pdf'.format(y_col, d_max), bbox_inches=\"tight\")\n",
    "\n",
    "    y_col = 'num_potential'\n",
    "    columns_pot = ['n_syn_soma', 'soma_y_um', 'soma_x_um', 'syn_net_non', 'ais_radius', 'size_mean_chc']\n",
    "    fig, ax, res_df = ols_analysis_single(arbor_ais_df_pot, row_filter, y_col, columns_pot[::-1], num_pot_color,\n",
    "                                          robust=use_robust, xticks=np.arange(-0.75,.76,0.25))\n",
    "    res_df.to_csv(plot_dir + '/ols_fit_{}_dmax_{}.csv'.format(y_col, d_max), index=False)\n",
    "    fig.savefig(plot_dir + '/ols_fit_{}_dmax_{}.pdf'.format(y_col, d_max), bbox_inches=\"tight\")\n",
    "\n",
    "\n",
    "    if 'label' in arbor_ais_df.columns:\n",
    "        y_col = 'conn_frac'\n",
    "        columns_frac =  ['soma_synapses', 'soma_y_um', 'soma_x_um', 'syn_net_non', 'ais_radius', 'size_mean_chc']\n",
    "        fig, ax, res_df = ols_analysis_single(arbor_ais_df_pot, row_filter, y_col, columns_frac[::-1], conn_frac_color,\n",
    "                                              robust=use_robust, xticks=np.arange(-0.75,.76,0.25))\n",
    "        res_df.to_csv(plot_dir + '/ols_fit_soma_exact_{}_dmax_{}.csv'.format(y_col, d_max), index=False)\n",
    "        fig.savefig(plot_dir + '/ols_fit_soma_exact_{}_dmax_{}.pdf'.format(y_col, d_max), bbox_inches=\"tight\")\n",
    "\n",
    "        y_col = 'num_potential'\n",
    "        columns_pot = ['soma_synapses', 'soma_y_um', 'soma_x_um', 'syn_net_non', 'ais_radius', 'size_mean_chc']\n",
    "        fig, ax, res_df = ols_analysis_single(arbor_ais_df_pot, row_filter, y_col, columns_pot[::-1], num_pot_color,\n",
    "                                              robust=use_robust, xticks=np.arange(-0.75,.76,0.25))\n",
    "        res_df.to_csv(plot_dir + '/ols_fit_soma_exact_{}_dmax_{}.csv'.format(y_col, d_max), index=False)\n",
    "        fig.savefig(plot_dir + '/ols_fit_soma_exact_{}_dmax_{}.pdf'.format(y_col, d_max), bbox_inches=\"tight\")\n",
    "\n",
    "        #### Soma synapse density\n",
    "        y_col = 'conn_frac'\n",
    "        columns_frac =  ['soma_syn_density', 'soma_y_um', 'soma_x_um', 'syn_net_non', 'ais_radius', 'size_mean_chc']\n",
    "        fig, ax, res_df = ols_analysis_single(arbor_ais_df_pot, row_filter, y_col, columns_frac[::-1], conn_frac_color,\n",
    "                                              robust=use_robust, xticks=np.arange(-0.75,.76,0.25))\n",
    "        res_df.to_csv(plot_dir + '/ols_fit_soma_density_{}_dmax_{}.csv'.format(y_col, d_max), index=False)\n",
    "        fig.savefig(plot_dir + '/ols_fit_soma_density_{}_dmax_{}.pdf'.format(y_col, d_max), bbox_inches=\"tight\")\n",
    "\n",
    "        y_col = 'num_potential'\n",
    "        columns_pot = ['soma_syn_density', 'soma_y_um', 'soma_x_um', 'syn_net_non', 'ais_radius', 'size_mean_chc']\n",
    "        fig, ax, res_df = ols_analysis_single(arbor_ais_df_pot, row_filter, y_col, columns_pot[::-1], num_pot_color,\n",
    "                                              robust=use_robust, xticks=np.arange(-0.75,.76,0.25))\n",
    "        res_df.to_csv(plot_dir + '/ols_fit_soma_density_{}_dmax_{}.csv'.format(y_col, d_max), index=False)\n",
    "        fig.savefig(plot_dir + '/ols_fit_soma_density_{}_dmax_{}.pdf'.format(y_col, d_max), bbox_inches=\"tight\")\n",
    "\n",
    "    else:\n",
    "        print('No exact soma data...')"
   ]
  },
  {
   "cell_type": "code",
   "execution_count": null,
   "metadata": {},
   "outputs": [],
   "source": [
    "'ais_radius' in arbor_ais_df_pot.columns"
   ]
  }
 ],
 "metadata": {
  "kernelspec": {
   "display_name": "analysis",
   "language": "python",
   "name": "analysis"
  },
  "language_info": {
   "codemirror_mode": {
    "name": "ipython",
    "version": 3
   },
   "file_extension": ".py",
   "mimetype": "text/x-python",
   "name": "python",
   "nbconvert_exporter": "python",
   "pygments_lexer": "ipython3",
   "version": "3.8.6"
  }
 },
 "nbformat": 4,
 "nbformat_minor": 4
}
