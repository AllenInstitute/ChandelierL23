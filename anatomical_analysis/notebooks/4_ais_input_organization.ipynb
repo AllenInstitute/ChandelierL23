{
 "cells": [
  {
   "cell_type": "code",
   "execution_count": null,
   "metadata": {},
   "outputs": [],
   "source": [
    "from common_preamble import *\n",
    "\n",
    "from meshparty import skeleton_io\n",
    "from ais_pipeline_scripting_tools import point_orientation_from_zx_slice\n",
    "from sklearn import cluster\n",
    "import pycircstat as circstats\n",
    "from scipy import stats\n",
    "import matplotlib.lines as mlines\n",
    "from collections import defaultdict"
   ]
  },
  {
   "cell_type": "code",
   "execution_count": null,
   "metadata": {},
   "outputs": [],
   "source": [
    "Rtrans = np.load(base_dir + '/data/in/pinky_rotation.npy')"
   ]
  },
  {
   "cell_type": "code",
   "execution_count": null,
   "metadata": {},
   "outputs": [],
   "source": [
    "full_soma_ids = dl.query_cell_ids('ais_analysis_soma')['pt_root_id'].values\n",
    "arbor_ais_df = aggregated_ais_syn_df[np.isin(aggregated_ais_syn_df['post_pt_root_id'], full_soma_ids)]"
   ]
  },
  {
   "cell_type": "code",
   "execution_count": null,
   "metadata": {},
   "outputs": [],
   "source": [
    "er_table = 'er_points'\n",
    "er_df = dl.query_cell_ids(er_table)\n",
    "\n",
    "ids, cts = np.unique(er_df['pt_root_id'], return_counts=True)\n",
    "ais_ids = ids[cts>10]   # A few points are outside the root object, but let's filter them out\n",
    "er_df = er_df[np.isin(er_df['pt_root_id'], ais_ids)]"
   ]
  },
  {
   "cell_type": "code",
   "execution_count": null,
   "metadata": {},
   "outputs": [],
   "source": [
    "mm = trimesh_io.MeshMeta(disk_cache_path=mesh_dir,\n",
    "                         cache_size=0, cv_path=mesh_cv_path, voxel_scaling=voxel_scaling)"
   ]
  },
  {
   "cell_type": "markdown",
   "metadata": {},
   "source": [
    "Mesh contact angular distributions"
   ]
  },
  {
   "cell_type": "code",
   "execution_count": null,
   "metadata": {},
   "outputs": [],
   "source": [
    "chc_meshes = {}\n",
    "for oid in chc_ids:\n",
    "    chc_mesh = mm.mesh(seg_id=oid)\n",
    "    chc_meshes[oid] = chc_mesh\n",
    "    \n",
    "ais_meshes = {}\n",
    "ais_sks = {}\n",
    "for oid in tqdm.tqdm(complete_ais_ids):\n",
    "    ais_file = ais_mesh_dir + '/{}_ais.h5'.format(oid)\n",
    "    if os.path.exists(ais_file):\n",
    "        ais_mesh = mm.mesh(filename=ais_file)\n",
    "        ais_meshes[oid] = ais_mesh\n",
    "    else:\n",
    "        ais_meshes[oid] = None\n",
    "        print('{} AIS not found!'.format(oid))\n",
    "    ais_sk_file = base_dir+'/data/skeletons/sk_ais_{}.h5'.format(oid)\n",
    "    if os.path.exists(ais_sk_file):\n",
    "        sk = skeleton_io.read_skeleton_h5(ais_sk_file)\n",
    "        sk.voxel_scaling = voxel_scaling\n",
    "        ais_sks[oid] = sk\n",
    "    else:\n",
    "        ais_sks[oid] = None\n",
    "        print('{} AIS sk not found!'.format(oid))"
   ]
  },
  {
   "cell_type": "markdown",
   "metadata": {},
   "source": [
    "Let's look at mesh-mesh contact"
   ]
  },
  {
   "cell_type": "code",
   "execution_count": null,
   "metadata": {},
   "outputs": [],
   "source": [
    "def mesh_mesh_proximity(target_mesh, other_mesh, max_dist=75):\n",
    "    proximate_point_list = target_mesh.kdtree.query_ball_tree(other_mesh.kdtree, max_dist)\n",
    "    is_proximate = np.array(list(map(len, proximate_point_list)))>0\n",
    "    return is_proximate\n",
    "\n",
    "\n",
    "def mesh_mesh_contact_points(target_mesh, other_mesh, max_dist=75, cluster_min_size=5, cluster_eps=500):\n",
    "    '''\n",
    "    :param target_mesh: Mesh for which we return contact indices and do vertex clustering\n",
    "    :param other_mesh: Mesh for which we search for contacts.\n",
    "    :param max_dist: Distance (in euclidean space) for which to consider contact between mesh vertices.\n",
    "    :param cluster_min_size: Minimum size of a contact point cluster. Smaller outliers are ignored.\n",
    "    :param cluster_eps: Distance (along mesh graph) for the max distance for two points to be located and\n",
    "                        be considered within the same neighborhood for clustering. See sklearn.cluster.DBSCAN\n",
    "    :returns: Array with row for each vertex in target mesh, with 0 for no contact and unique nonzero integers\n",
    "              for each distinct contact.\n",
    "              \n",
    "    '''\n",
    "    is_proximate = mesh_mesh_proximity(target_mesh, other_mesh, max_dist)\n",
    "    proximate_inds = np.flatnonzero(is_proximate)\n",
    "    ds_long = sparse.csgraph.dijkstra(target_mesh.csgraph, indices=proximate_inds)\n",
    "    ds = ds_long[:, proximate_inds]\n",
    "    \n",
    "    dbscan = cluster.DBSCAN(eps=cluster_eps, metric='precomputed', min_samples=cluster_min_size)\n",
    "    clust_res = dbscan.fit(ds)\n",
    "    vert_labels = is_proximate.astype(int)\n",
    "    vert_labels[proximate_inds] = clust_res.labels_ + 1\n",
    "    return vert_labels\n",
    "\n",
    "def er_location_df(ais_sk, ais_mesh, er_df, voxel_resolution=voxel_resolution):\n",
    "    er_pts = np.vstack(er_df['pt_position'].values) * voxel_resolution\n",
    "    _, er_inds = ais_mesh.kdtree.query(er_pts)\n",
    "    er_orientation = point_orientation_from_zx_slice(er_inds, ais_mesh, 400)\n",
    "    \n",
    "    er_skinds = ais_sk.mesh_to_skel_map[ais_mesh.map_indices_to_unmasked(er_inds)]\n",
    "    er_zdist = ais_sk.distance_to_root[er_skinds]\n",
    "    \n",
    "    er_df['orientation'] = er_orientation\n",
    "    er_df['d_top'] = er_zdist\n",
    "    er_df['mesh_ind'] = ais_mesh.map_indices_to_unmasked(er_inds)\n",
    "    er_df['sk_ind'] = er_skinds\n",
    "    return er_df\n",
    "\n",
    "def annotation_location_indices(mesh, pos_column, anno_df, mesh_to_sk_map=None, max_dist=np.inf,\n",
    "                                voxel_resolution=voxel_resolution):\n",
    "    '''\n",
    "    For a dataframe associated with a given neuron, find the mesh indices associated with each synapse.\n",
    "\n",
    "    :param mesh: trimesh Mesh\n",
    "    :param synapse_df: DataFrame with at least one position column\n",
    "    :param pos_column: string, column of dataframe to use for annotation positions\n",
    "    :param mesh_to_sk_map: Optional, Numpy array with skeleton vertex index for every mesh vertex index.\n",
    "    :param max_dist: Optional, Maximum distance to the mesh allowed for assignment, else return -1.\n",
    "    :param voxel_resolution: Optional, default is [4,4,40] nm/voxel.\n",
    "    :returns: Mesh indices and, if desired, skeleton indices.\n",
    "    '''\n",
    "    if len(anno_df) == 0:\n",
    "        if mesh_to_sk_map is None:\n",
    "            return np.array([])\n",
    "        else:\n",
    "            return np.array([]), np.array([])\n",
    "\n",
    "    anno_positions = np.vstack(anno_df[pos_column].values) * voxel_resolution\n",
    "    ds, mesh_inds = mesh.kdtree.query(anno_positions)\n",
    "    mesh_inds = mesh.map_indices_to_unmasked(mesh_inds)\n",
    "    mesh_inds[ds>max_dist] = -1\n",
    "    \n",
    "    if mesh_to_sk_map is None:\n",
    "        return mesh_inds\n",
    "    else:\n",
    "        mesh_to_sk_map = mesh_to_sk_map.astype(int)\n",
    "        found_inds = mesh_inds>=0\n",
    "        skinds = np.zeros(mesh_inds.shape)\n",
    "        skinds[found_inds] = mesh_to_sk_map[mesh_inds[found_inds]]\n",
    "        skinds[~found_inds] = -1\n",
    "        return mesh_inds, skinds\n",
    "\n",
    "def distance_to_co_pts(co_er_df_over, nrn_syn_df, median_r):\n",
    "    co_xy = co_er_df_over[['d_orientation', 'd_top']].values\n",
    "\n",
    "    nrn_syn_df['d_orientation'] = median_r * nrn_syn_df['orientation']\n",
    "    syn_xy = nrn_syn_df[['d_orientation', 'd_top_skel']].values\n",
    "\n",
    "    syn_co_dist = spatial.distance.cdist(syn_xy, co_xy)\n",
    "    closest_ind = np.argmin(syn_co_dist, axis=1)\n",
    "    \n",
    "    syn_xy_rad = nrn_syn_df[['orientation', 'd_top_skel']].values\n",
    "    co_xy_rad = co_er_df_over[['orientation', 'd_top']].values\n",
    "    dist_rad = co_xy_rad[closest_ind] - syn_xy_rad\n",
    "    delta_orientation = np.mod(dist_rad[:,0] + np.pi, 2*np.pi) - np.pi\n",
    "    delta_z = dist_rad[:,1]\n",
    "    return delta_orientation, delta_z"
   ]
  },
  {
   "cell_type": "code",
   "execution_count": null,
   "metadata": {},
   "outputs": [],
   "source": [
    "from tqdm import tqdm"
   ]
  },
  {
   "cell_type": "code",
   "execution_count": null,
   "metadata": {},
   "outputs": [],
   "source": [
    "is_chc = True\n",
    "all_contact_orientations = {}\n",
    "all_vert_labels = {}\n",
    "for nrn_oid in tqdm(ais_ids):\n",
    "    ais_mesh = ais_meshes[nrn_oid]\n",
    "\n",
    "    nrn_chc_syn_df = ais_synapse_data[(ais_synapse_data['post_pt_root_id']==nrn_oid) & (ais_synapse_data['is_chandelier'] == is_chc)]\n",
    "    nrn_chc_ids = np.unique(nrn_chc_syn_df['pre_pt_root_id'])\n",
    "\n",
    "    if len(nrn_chc_syn_df) == 0:\n",
    "        continue\n",
    "    \n",
    "    try:\n",
    "        vert_labels = np.zeros(ais_mesh.n_vertices, dtype=int)\n",
    "        for nrn_chc_id in nrn_chc_ids:\n",
    "            if is_chc is True:\n",
    "                chc_mesh = chc_meshes[nrn_chc_id]\n",
    "            else:\n",
    "                chc_mesh = mm.mesh(seg_id=nrn_chc_id)\n",
    "            contact_pts = mesh_mesh_contact_points(ais_mesh, chc_mesh, max_dist=150, cluster_eps=400)\n",
    "            contact_pts[contact_pts>0] =  contact_pts[contact_pts>0] + np.max(vert_labels)\n",
    "            vert_labels = np.max(np.vstack((vert_labels, contact_pts)), axis=0)\n",
    "\n",
    "        presyn_locs = np.vstack(nrn_chc_syn_df['ctr_pt_position'].values) * voxel_resolution\n",
    "        _, syn_mesh_inds = ais_mesh.kdtree.query(presyn_locs)\n",
    "        seen_contacts = np.unique(vert_labels[syn_mesh_inds])\n",
    "        if 0 in seen_contacts:\n",
    "            print(f'A real synapse is not in a contact cluster! {nrn_oid}')\n",
    "        vert_labels[~np.isin(vert_labels, seen_contacts)] = 0\n",
    "        \n",
    "        all_vert_labels[nrn_oid] = vert_labels\n",
    "        is_contact = vert_labels>0\n",
    "        all_contact_orientations[nrn_oid] = point_orientation_from_zx_slice(np.flatnonzero(is_contact), ais_mesh, 300, rotation_matrix=Rtrans)\n",
    "    except:\n",
    "        print('Failed on {}!'.format(nrn_oid))\n",
    "        continue"
   ]
  },
  {
   "cell_type": "code",
   "execution_count": null,
   "metadata": {},
   "outputs": [],
   "source": [
    "from matplotlib import cm "
   ]
  },
  {
   "cell_type": "code",
   "execution_count": null,
   "metadata": {},
   "outputs": [],
   "source": [
    "def paintball_color_mesh(categories, base_color=(0.5, 0.5, 0.5), h=0.01, l=0.6, s=0.65, permute_colors=True):\n",
    "    unique_categories = np.unique(categories)\n",
    "    n_colors = len(unique_categories)-1\n",
    "    \n",
    "    color_lookup = np.full(np.max(unique_categories)+1, 0)\n",
    "    color_lookup[unique_categories] = np.argsort(unique_categories)\n",
    "    \n",
    "    color_colors = sns.hls_palette(n_colors, h, l, s)\n",
    "    if permute_colors:\n",
    "        color_colors = np.random.permutation(color_colors)\n",
    "    colors = np.vstack((base_color, color_colors))\n",
    "    return colors[color_lookup[categories]]\n"
   ]
  },
  {
   "cell_type": "code",
   "execution_count": null,
   "metadata": {},
   "outputs": [],
   "source": [
    "ais_oid = ais_ids[6] \n",
    "\n",
    "ma = trimesh_vtk.mesh_actor(ais_meshes[ais_oid], opacity=1, vertex_colors=paintball_color_mesh(all_vert_labels[ais_oid] ))\n",
    "\n",
    "nrn_chc_syn_df = ais_synapse_data[(ais_synapse_data['post_pt_root_id']==ais_oid) & (ais_synapse_data['is_chandelier'] == is_chc)]\n",
    "chc_syn_pts = np.vstack( nrn_chc_syn_df['ctr_pt_position'].values ) * voxel_resolution\n",
    "sa = trimesh_vtk.point_cloud_actor(chc_syn_pts, size=100, color=(0,0,0), opacity=1)\n",
    "\n",
    "camera = trimesh_vtk.oriented_camera(ais_meshes[ais_oid].centroid, backoff=150)\n",
    "\n",
    "trimesh_vtk.render_actors([ma, sa], camera=camera)"
   ]
  },
  {
   "cell_type": "markdown",
   "metadata": {},
   "source": [
    "### Generate a dataframe where each row is a contact point that has columns:\n",
    "* ~~AIS root_id~~\n",
    "* ~~contact_id (unique to neuron)~~\n",
    "* ~~mesh index~~\n",
    "* ~~mesh vertex position~~\n",
    "* ~~synapse_id if there is a synapse onto that contact~~\n",
    "* ~~contact point \"centroid\"~~"
   ]
  },
  {
   "cell_type": "code",
   "execution_count": null,
   "metadata": {},
   "outputs": [],
   "source": [
    "contact_dfs = []\n",
    "for oid in tqdm(ais_ids):\n",
    "    try:\n",
    "        mesh = ais_meshes[oid]\n",
    "        sk = ais_sks[oid]\n",
    "\n",
    "        contact_pt_mesh_ind = np.flatnonzero([all_vert_labels[oid]>0])\n",
    "        contact_label = all_vert_labels[oid][all_vert_labels[oid]>0]\n",
    "        contact_pt_orientation = all_contact_orientations[oid]\n",
    "        root_id = np.full(len(contact_pt_mesh_ind), oid)\n",
    "        contact_pt_position = mesh.vertices[contact_pt_mesh_ind]\n",
    "        contact_pt_z_loc = sk.distance_to_root[sk.mesh_to_skel_map[mesh.map_indices_to_unmasked(contact_pt_mesh_ind)]]\n",
    "\n",
    "        ds_contact = sparse.csgraph.dijkstra(mesh.csgraph, indices=contact_pt_mesh_ind)\n",
    "        ds_contact = ds_contact[:, contact_pt_mesh_ind]\n",
    "\n",
    "        contact_label_values = np.unique(contact_label)\n",
    "        contact_center =  []\n",
    "        for label_ind in contact_label_values:\n",
    "            is_label = contact_label==label_ind\n",
    "            lowest_mean_dist_local = np.argmin(np.mean(ds_contact[:,is_label][is_label], axis=0))\n",
    "            contact_center.append(contact_pt_mesh_ind[np.flatnonzero(is_label)[lowest_mean_dist_local]])\n",
    "        contact_center=np.array(contact_center)\n",
    "\n",
    "        contact_df = pd.DataFrame(data={'root_id': root_id,\n",
    "                                       'contact_label': contact_label,\n",
    "                                       'contact_pt_mesh_ind': contact_pt_mesh_ind,\n",
    "                                       'contact_pt_orientation': contact_pt_orientation,\n",
    "                                       'contact_pt_z_loc': contact_pt_z_loc,\n",
    "                                       'contact_pt_position': [x for x in contact_pt_position]})\n",
    "\n",
    "        center_df = pd.DataFrame(data={'contact_label': contact_label_values,\n",
    "                                       'contact_center_mesh_ind': contact_center,\n",
    "                                       })\n",
    "\n",
    "        contact_df = contact_df.merge(center_df, on='contact_label', how='left', validate='many_to_many')\n",
    "\n",
    "        nrn_chc_syn_df = ais_synapse_data[(ais_synapse_data['post_pt_root_id']==oid) & (ais_synapse_data['is_chandelier'] == True)]\n",
    "        chc_syn_inds = mesh.filter_unmasked_indices(annotation_location_indices(mesh, 'ctr_pt_position', nrn_chc_syn_df))\n",
    "        ds = sparse.csgraph.dijkstra(mesh.csgraph, indices=chc_syn_inds)\n",
    "        nrn_chc_syn_df['contact_label'] = contact_label[np.argmin( ds[:, contact_pt_mesh_ind], axis=1)]\n",
    "\n",
    "        contact_df = contact_df.merge(nrn_chc_syn_df[['id', 'pre_pt_root_id', 'contact_label']], on='contact_label', how='right', validate='many_to_many')\n",
    "        contact_df = contact_df.rename(columns={'id': 'synapse_id'})\n",
    "        contact_dfs.append(contact_df)\n",
    "    except:\n",
    "        continue\n"
   ]
  },
  {
   "cell_type": "code",
   "execution_count": null,
   "metadata": {},
   "outputs": [],
   "source": [
    "all_contact_df = pd.concat(contact_dfs)\n",
    "all_contact_df['is_center'] = all_contact_df['contact_pt_mesh_ind']==all_contact_df['contact_center_mesh_ind']\n",
    "\n",
    "all_contact_center_df = all_contact_df[all_contact_df['is_center']==True]"
   ]
  },
  {
   "cell_type": "markdown",
   "metadata": {},
   "source": [
    "### 2. Build the ER cluster dataframe"
   ]
  },
  {
   "cell_type": "code",
   "execution_count": null,
   "metadata": {},
   "outputs": [],
   "source": [
    "nrn_syn_dfs = {}\n",
    "co_er_dfs = {}\n",
    "dist_to_cos = []\n",
    "dist_to_cos_non = []\n",
    "median_rs = {}\n",
    "for ais_id in tqdm(ais_ids):\n",
    "    dbscan = cluster.DBSCAN(eps=500, metric='precomputed', min_samples=5)\n",
    "\n",
    "    ais_mesh = ais_meshes[ais_id]\n",
    "\n",
    "    nrn_er_df = er_location_df(ais_sks[ais_id], ais_meshes[ais_id], er_df[er_df['pt_root_id']==ais_id])\n",
    "    co_er_df = nrn_er_df[nrn_er_df['func_id']==1]\n",
    "\n",
    "    co_mesh_inds = ais_mesh.filter_unmasked_indices(co_er_df['mesh_ind'])\n",
    "    ds = sparse.csgraph.dijkstra(ais_mesh.csgraph, indices=co_mesh_inds)\n",
    "    dmat = ds[:,co_mesh_inds]\n",
    "\n",
    "    clust_res = dbscan.fit(dmat)\n",
    "    co_er_df['clust_label'] = clust_res.labels_\n",
    "\n",
    "#     co_er_df['clust_label'] = 1\n",
    "    \n",
    "    median_r = np.median(ais_sks[ais_id].vertex_properties['rs']) / 2\n",
    "    median_rs[ais_id] = median_r\n",
    "    co_er_df['d_orientation'] = median_r * co_er_df['orientation']\n",
    "\n",
    "    left_co_er_df = co_er_df.copy()\n",
    "    right_co_er_df = co_er_df.copy()\n",
    "\n",
    "    left_co_er_df['orientation'] = co_er_df['orientation'] - 2*np.pi\n",
    "    left_co_er_df['d_orientation'] = median_r * left_co_er_df['orientation']\n",
    "\n",
    "    right_co_er_df['orientation'] = co_er_df['orientation'] + 2*np.pi\n",
    "    right_co_er_df['d_orientation'] = median_r * right_co_er_df['orientation']\n",
    "\n",
    "    nrn_syn_df = ais_synapse_data[ais_synapse_data['post_pt_root_id']==ais_id]\n",
    "    nrn_syn_dfs[ais_id] = nrn_syn_df\n",
    "    \n",
    "    co_er_df_over = pd.concat((co_er_df, left_co_er_df, right_co_er_df))\n",
    "    co_er_dfs[ais_id] = co_er_df_over\n",
    "    dist_to_cos.append(distance_to_co_pts(co_er_df_over, nrn_syn_df[nrn_syn_df['is_chandelier']==True], median_r))\n",
    "    dist_to_cos_non.append(distance_to_co_pts(co_er_df_over, nrn_syn_df[nrn_syn_df['is_chandelier']==False], median_r))\n",
    "\n",
    "co_er_all_df = pd.concat(co_er_dfs.values())"
   ]
  },
  {
   "cell_type": "markdown",
   "metadata": {},
   "source": [
    "### Integrate COs and Synapses\n",
    "\n",
    "1st) Plot contacts and CO Clusters\n",
    "\n",
    "2nd) Angle from Syn Contact->CO Cluster"
   ]
  },
  {
   "cell_type": "code",
   "execution_count": null,
   "metadata": {},
   "outputs": [],
   "source": [
    "ais_syn_ct_df = aggregated_ais_syn_df[np.isin(aggregated_ais_syn_df['post_pt_root_id'], ais_ids)].sort_values(by='syn_net_chc')[['post_pt_root_id', 'syn_net_chc']]\n",
    "ais_ids_sorted = ais_syn_ct_df['post_pt_root_id'].values"
   ]
  },
  {
   "cell_type": "code",
   "execution_count": null,
   "metadata": {},
   "outputs": [],
   "source": [
    "co_color = (0.012, 0.843, 1)"
   ]
  },
  {
   "cell_type": "code",
   "execution_count": null,
   "metadata": {},
   "outputs": [],
   "source": [
    "with sns.axes_style('whitegrid') as s:\n",
    "    fig, axes = plt.subplots(figsize=(13, 5), ncols=len(ais_ids))\n",
    "    for ii, ais_id in enumerate(ais_ids_sorted):\n",
    "        ax = axes[ii]\n",
    "        co_df = co_er_all_df[(co_er_all_df['pt_root_id']==ais_id) & (co_er_all_df['clust_label']>=0)]\n",
    "        contact_center_df = all_contact_df[np.isin(all_contact_df['root_id'], [ais_id]) & (all_contact_df['is_center'])]\n",
    "\n",
    "        median_r = np.median(ais_sks[ais_id].vertex_properties['rs']) / 2\n",
    "        contact_center_df['d_orientation'] = median_r * contact_center_df['contact_pt_orientation']\n",
    "        co_df['d_orientation'] = median_r * co_df['orientation']\n",
    "\n",
    "    #     fig, ax = plt.subplots(figsize=(3,7))\n",
    "        ax.plot([np.pi, np.pi], [0, 100000], linestyle='--', color=non_color, zorder=0)\n",
    "        ax.plot([-np.pi, -np.pi], [0, 100000], linestyle='--', color=non_color, zorder=0)\n",
    "\n",
    "        sns.scatterplot(x='orientation', y='d_top', s=50, data=co_df[co_df['func_id']==1], color=co_color, alpha=0.3, edgecolor=None, ax=ax)\n",
    "        sns.scatterplot(x='contact_pt_orientation', y='contact_pt_z_loc', s=80, alpha=0.7, data=contact_center_df, color=chc_color, marker='o', edgecolor='w', ax=ax)\n",
    "\n",
    "        if ii>0:\n",
    "            ax.set_ylabel('')\n",
    "            ax.set_yticklabels([])\n",
    "            ax.set_xticklabels([])\n",
    "            ax.set_xticks([-1 * np.pi, 0, 1 * np.pi])\n",
    "        else:\n",
    "            ax.set_yticklabels([0, 10, 20, 30, 40, 50], fontdict={'size':12})\n",
    "            ax.set_ylabel('Depth on AIS ($\\mu$m)', fontdict={'size':14})\n",
    "            ax.set_xticks([-1 * np.pi, 0, 1 * np.pi])\n",
    "            ax.set_xticklabels(['-$\\pi$', '0', '$\\pi$'], fontdict={'size':14})\n",
    "            ax.set_xlabel('Orientation', fontdict={'size':14})\n",
    "        ax.set_xlim([-1.25 * np.pi, 1.25 * np.pi])\n",
    "        ax.set_ylim((0,50000))\n",
    "        ax.set_xlabel('')\n",
    "        ax.invert_yaxis()\n",
    "\n",
    "    co_dot = mlines.Line2D([], [], color=co_color, linestyle='none', marker='o', markersize=5)\n",
    "    syn_dot = mlines.Line2D([], [], color=chc_color, linestyle='none', marker='o', markersize=5)\n",
    "    axes[0].legend([co_dot, syn_dot], ['CO', 'ChC Syn.'], bbox_to_anchor=(.5,1.))\n",
    "    fig.savefig(plot_dir + f'/CO_FIG_co_synapse_locations_{str(is_chc).lower()}.pdf')"
   ]
  },
  {
   "cell_type": "code",
   "execution_count": null,
   "metadata": {},
   "outputs": [],
   "source": [
    "bins = np.arange(0,51, 4)\n",
    "fig, ax = plt.subplots(figsize=(2,2))\n",
    "ax.hist(co_er_all_df['d_top']/1000, bins=bins, cumulative=False, density=True, color=co_color, linewidth=1)\n",
    "ax.set_xlabel('Depth on AIS ($\\mu$m)')\n",
    "ax.set_ylabel('CO Points (norm.)')\n",
    "ax.set_xticks(np.arange(0, 51, 10))\n",
    "fig.savefig(plot_dir + f'/CO_FIG_co_depth_{str(is_chc).lower()}')"
   ]
  },
  {
   "cell_type": "code",
   "execution_count": null,
   "metadata": {},
   "outputs": [],
   "source": [
    "fig, ax = plt.subplots(figsize=(2,2))\n",
    "bins = np.arange(-np.pi, np.pi+0.1, np.pi/6)\n",
    "plt.hist(co_er_all_df['orientation'], bins=bins, histtype='step', density=True, linewidth=3, color=co_color)\n",
    "plt.hist(all_contact_df['contact_pt_orientation'], bins=bins, alpha=0.7, histtype='step', density=True, linewidth=3, color=chc_color)\n",
    "\n",
    "ax.set_ylabel('Points (norm.)')\n",
    "ax.set_xlabel('Orientation')\n",
    "ax.set_xticks([-1 * np.pi, 0, np.pi])\n",
    "ax.set_xticklabels(['-$\\pi$', 0, '$\\pi$'])"
   ]
  },
  {
   "cell_type": "code",
   "execution_count": null,
   "metadata": {},
   "outputs": [],
   "source": [
    "def min_angle(a0, b):\n",
    "    b = np.array(b)\n",
    "    a0ip = np.exp(a0*1j)\n",
    "    bip = np.exp(b*1j)\n",
    "    return np.argmin(np.abs(bip-a0ip))\n",
    "\n",
    "def map_syn_to_new_mesh(zs, orientations, mesh, sk, z_diff=300):\n",
    "    '''\n",
    "    Given a distance from top and orientation, find equivalent points in an AIS specified by its mesh and skeleton.\n",
    "    '''\n",
    "    mapped_inds = []\n",
    "    new_point_values = []\n",
    "    potentials = []\n",
    "    for z, orientation in zip(zs, orientations):\n",
    "        sk_inds = np.flatnonzero(np.abs(sk.distance_to_root - z) < z_diff)\n",
    "        mesh_inds = np.flatnonzero(np.isin(sk.mesh_to_skel_map, sk_inds))\n",
    "        ais_mesh_inds = mesh.filter_unmasked_indices(mesh_inds)\n",
    "\n",
    "        pot_orientations = point_orientation_from_zx_slice(ais_mesh_inds, mesh, 300, rotation_matrix = Rtrans)\n",
    "        best_orientation_ind = min_angle(orientation, pot_orientations)\n",
    "        potentials.append(np.array(pot_orientations))\n",
    "        mapped_inds.append(ais_mesh_inds[best_orientation_ind])\n",
    "        \n",
    "        new_z = sk.distance_to_root[ sk.mesh_to_skel_map[mesh_inds[best_orientation_ind]]]\n",
    "        new_orientation = pot_orientations[best_orientation_ind]\n",
    "        new_point_values.append((new_z, new_orientation))\n",
    "    return np.array(mapped_inds), np.array(new_point_values)"
   ]
  },
  {
   "cell_type": "code",
   "execution_count": null,
   "metadata": {},
   "outputs": [],
   "source": [
    "max_z = 30000 \n",
    "remapped_contact_inds = defaultdict(dict)\n",
    "\n",
    "for mesh_oid in tqdm(ais_ids):\n",
    "    mesh = ais_meshes[mesh_oid]\n",
    "    sk = ais_sks[mesh_oid]\n",
    "    for syn_oid in tqdm(ais_ids):\n",
    "        syn_df = all_contact_center_df[all_contact_center_df['root_id']==syn_oid]\n",
    "        syn_df = syn_df[syn_df['contact_pt_z_loc'] < max_z]\n",
    "        if syn_oid == mesh_oid:            \n",
    "            remapped_contact_inds[mesh_oid][syn_oid] = syn_df['contact_center_mesh_ind']\n",
    "        else:\n",
    "            zs = syn_df['contact_pt_z_loc'].values\n",
    "            orientations = syn_df['contact_pt_orientation'].values\n",
    "            remapped_contact_inds[mesh_oid][syn_oid], _ = map_syn_to_new_mesh(zs, orientations, mesh, sk) "
   ]
  },
  {
   "cell_type": "code",
   "execution_count": null,
   "metadata": {},
   "outputs": [],
   "source": [
    "dist_matched = []\n",
    "dist_unmatched = []\n",
    "for syn_oid in tqdm(ais_ids):\n",
    "    for mesh_oid in ais_ids:\n",
    "        syn_minds = remapped_contact_inds[mesh_oid][syn_oid]\n",
    "        co_df = co_er_all_df[(co_er_all_df['pt_root_id']==mesh_oid) & (co_er_all_df['clust_label']>0)]\n",
    "        co_minds = ais_meshes[mesh_oid].filter_unmasked_indices(co_df['mesh_ind'].values)\n",
    "        ds = sparse.csgraph.dijkstra(ais_meshes[mesh_oid].csgraph, indices=syn_minds)\n",
    "        min_dist_to_co = np.min(ds[:,co_minds], axis=1)\n",
    "        if mesh_oid==syn_oid:\n",
    "            dist_matched.append(min_dist_to_co)\n",
    "        else:\n",
    "            dist_unmatched.append(min_dist_to_co)"
   ]
  },
  {
   "cell_type": "code",
   "execution_count": null,
   "metadata": {},
   "outputs": [],
   "source": [
    "dist_data = np.concatenate([np.concatenate(dist_matched)/1000, np.concatenate(dist_unmatched)/1000])\n",
    "is_matched = np.full(len(dist_data), 'Unmatched')\n",
    "is_matched[0:len(np.concatenate(dist_matched))] = 'Matched'\n",
    "match_data = pd.DataFrame(data={'Min. Distance ($\\mu m$)':dist_data, 'CO/Synapse Locations':is_matched})"
   ]
  },
  {
   "cell_type": "code",
   "execution_count": null,
   "metadata": {},
   "outputs": [],
   "source": [
    "ttest_result = stats.mannwhitneyu(match_data[match_data['CO/Synapse Locations']=='Matched']['Min. Distance ($\\mu m$)'],\n",
    "                match_data[match_data['CO/Synapse Locations']!='Matched']['Min. Distance ($\\mu m$)'])\n",
    "stat_df = pd.DataFrame(data={'Min_Distance_pvalue':[ttest_result.pvalue]})\n",
    "stat_df.to_csv(plot_dir + f'/CO_FIG_min_distance_distribution_stat_{str(is_chc).lower()}.csv')"
   ]
  },
  {
   "cell_type": "code",
   "execution_count": null,
   "metadata": {},
   "outputs": [],
   "source": [
    "stat_df"
   ]
  },
  {
   "cell_type": "code",
   "execution_count": null,
   "metadata": {},
   "outputs": [],
   "source": [
    "fig, ax = plt.subplots(figsize=(3,4))\n",
    "# sns.boxplot(data=match_data, x='CO/Synapse Locations', y='Min. Distance ($\\mu m$)', width=0.4, palette=(co_color, (0.5, 0.5, 0.5)), )\n",
    "sns.violinplot(data=match_data, x='CO/Synapse Locations', y='Min. Distance ($\\mu m$)', bw=0.25, linewidth=1.5, width=0.95, ax=ax, palette=(co_color, (0.5, 0.5, 0.5)), inner='quartile', cut=0)\n",
    "sns.despine(offset=5, ax=ax)\n",
    "ax.set_ylim(-0.1, 8)\n",
    "ax.xaxis.label.set_fontsize(12)\n",
    "ax.yaxis.label.set_fontsize(12)\n",
    "ax.set_ylabel('Mean Syn/CO Dist. ($\\mu m$)', fontdict={'size':14})\n",
    "ax.text(0.5, 7, int(assign_stars(np.array([ttest_result.pvalue]), stars)[0]) * '*', fontdict={'horizontalalignment':'center', 'size':14}) \n",
    "fig.savefig(plot_dir + f'/CO_FIG_min_distance_distribution_violin_{str(is_chc).lower()}.pdf', bbox_inches='tight')"
   ]
  },
  {
   "cell_type": "code",
   "execution_count": null,
   "metadata": {},
   "outputs": [],
   "source": [
    "bins = np.arange(0,8,0.25)\n",
    "\n",
    "fig, ax = plt.subplots(figsize=(3,3))\n",
    "ax.hist(np.concatenate(dist_unmatched)/1000, density=True, bins=bins, histtype='step', linewidth=3, color='k', alpha=1)\n",
    "ax.hist(np.concatenate(dist_matched)/1000, density=True, bins=bins, histtype='step', linewidth=3, color=co_color, alpha=0.8)\n",
    "ax.set_xlabel('Synapse to CO Distance ($\\mu$m)', fontdict={'size':12})\n",
    "ax.set_xlim((-0.25, 8))\n",
    "ax.set_ylim((-0.05, 2.2))\n",
    "ax.set_ylabel('Density')\n",
    "ax.legend(('Shuffled CO/Synapse', 'Observed CO/Synapse'), bbox_to_anchor=(1.1,0.91))\n",
    "sns.despine(ax=ax, offset=5)\n",
    "fig.savefig(plot_dir + f'/CO_FIG_min_distance_distribution_hist_{str(is_chc).lower()}.pdf')"
   ]
  },
  {
   "cell_type": "markdown",
   "metadata": {},
   "source": [
    "Same AIS, rotated orientations"
   ]
  },
  {
   "cell_type": "code",
   "execution_count": null,
   "metadata": {},
   "outputs": [],
   "source": [
    "delta_orientations = np.arange(-np.pi, np.pi+0.0001, np.pi/8)\n",
    "z_thresh = 30000\n",
    "\n",
    "dist_rotated = []\n",
    "for ii, ais_id in tqdm(enumerate(ais_ids), total=len(ais_ids)):\n",
    "    dist_rotated.append([])\n",
    "    for delta_orientation in tqdm(delta_orientations):\n",
    "        contact_center_df = all_contact_df[np.isin(all_contact_df['root_id'], [ais_id]) & (all_contact_df['is_center'])]\n",
    "        zs = contact_center_df['contact_pt_z_loc']\n",
    "        good_zs = zs<z_thresh\n",
    "        zs = zs[good_zs]\n",
    "        \n",
    "        new_orientation = contact_center_df['contact_pt_orientation'] + delta_orientation\n",
    "        new_orientation = new_orientation[good_zs]\n",
    "        new_mesh_inds, new_values = map_syn_to_new_mesh(zs, new_orientation, ais_meshes[ais_id], ais_sks[ais_id])\n",
    "\n",
    "        co_df = co_er_all_df[(co_er_all_df['pt_root_id']==ais_id) & (co_er_all_df['clust_label']>=0)]\n",
    "        co_minds = ais_meshes[ais_id].filter_unmasked_indices(co_df['mesh_ind'].values)\n",
    "        ds = sparse.csgraph.dijkstra(ais_meshes[ais_id].csgraph, indices=new_mesh_inds)\n",
    "        min_dist_to_co = np.min(ds[:,co_minds], axis=1)\n",
    "        dist_rotated[ii].append(min_dist_to_co)"
   ]
  },
  {
   "cell_type": "code",
   "execution_count": null,
   "metadata": {},
   "outputs": [],
   "source": [
    "def list_of_lists_to_categorical(data, categories=None):\n",
    "    if categories is None:\n",
    "        categories = np.arange(len(data))\n",
    "    \n",
    "    data_long = np.concatenate(data)\n",
    "    categories_long = np.concatenate([np.full(len(d), i) for d, i in zip(data, categories)])\n",
    "    return data_long, categories_long"
   ]
  },
  {
   "cell_type": "code",
   "execution_count": null,
   "metadata": {},
   "outputs": [],
   "source": [
    "all_dists = []\n",
    "for ii in range(len(delta_orientations)):\n",
    "    dist, _ = list_of_lists_to_categorical([x[ii] for x in dist_rotated])\n",
    "    all_dists.append(dist)"
   ]
  },
  {
   "cell_type": "code",
   "execution_count": null,
   "metadata": {},
   "outputs": [],
   "source": [
    "d_dist, do_list = list_of_lists_to_categorical(all_dists, delta_orientations)"
   ]
  },
  {
   "cell_type": "code",
   "execution_count": null,
   "metadata": {},
   "outputs": [],
   "source": [
    "do_df = pd.DataFrame(data={'min_dist':d_dist/1000, 'delta_orientation':do_list})"
   ]
  },
  {
   "cell_type": "code",
   "execution_count": null,
   "metadata": {},
   "outputs": [],
   "source": [
    "sns.set_style(\"ticks\", {\"xtick.major.size\": 8, \"ytick.major.size\": 8})\n",
    "fig, ax = plt.subplots(figsize=(3,3))\n",
    "dist_matched_long = np.concatenate(dist_matched)/1000\n",
    "dist_unmatched_long = np.concatenate(dist_unmatched)/1000\n",
    "\n",
    "base_data = do_df[do_df['delta_orientation']==delta_orientations[8]]\n",
    "\n",
    "all_test_res = []\n",
    "for del_or in delta_orientations:\n",
    "    data = do_df[do_df['delta_orientation']==del_or]\n",
    "    all_test_res.append(stats.mannwhitneyu(data['min_dist'], base_data['min_dist']).pvalue)\n",
    "\n",
    "data_stars = assign_stars(sm.stats.multipletests(all_test_res)[1], stars)\n",
    "\n",
    "#sns.lineplot(x='delta_orientation', y='min_dist', data=do_df.query('delta_orientation<3.15'), ci=90, color=co_color, ax=ax, marker='s')\n",
    "sns.lineplot(x='delta_orientation', y='min_dist', data=do_df, ci=90, color=co_color, ax=ax, marker='s')\n",
    "# ax.set_ylim((0.35,1.3))\n",
    "\n",
    "plot_stars(delta_orientations, do_df.groupby('delta_orientation').mean()['min_dist'].values,\n",
    "           data_stars, ax, horizontalalignment='center', xytext=(0,45))\n",
    "ax.set_xticks([-np.pi, -np.pi/2, 0, np.pi/2, np.pi])\n",
    "ax.set_xticklabels(['-$\\pi$', '$\\pi$/2', '0', '$\\pi$/2', '$\\pi$'], fontdict={'size':12})\n",
    "ax.set_xlabel('$\\Delta$ Orientation', fontdict={'size':14})\n",
    "ax.set_ylabel('Mean Syn/CO Dist. ($\\mu m$)', fontdict={'size':14})\n",
    "ax.grid(False)\n",
    "sns.despine(offset=2, ax=ax, trim=True)\n",
    "fig.savefig(plot_dir + f'/CO_synapse_rotation_{str(is_chc).lower()}.pdf', bbox_inches='tight')"
   ]
  },
  {
   "cell_type": "code",
   "execution_count": null,
   "metadata": {},
   "outputs": [],
   "source": [
    "rotate_stats_df = pd.DataFrame(data={'delta_orientation': delta_orientations,\n",
    "                                     'mann-whitney_p': all_test_res,\n",
    "                                     'mann-whitney_p_multitest': sm.stats.multipletests(all_test_res)[1]})\n",
    "rotate_stats_df.to_csv(plot_dir + f'/CO_rotation_tests_{str(is_chc).lower()}.csv')\n",
    "del rotate_stats_df"
   ]
  },
  {
   "cell_type": "markdown",
   "metadata": {},
   "source": [
    "---"
   ]
  },
  {
   "cell_type": "code",
   "execution_count": null,
   "metadata": {},
   "outputs": [],
   "source": [
    "fig, ax = plt.subplots(figsize=(4,4))\n",
    "dist_matched_long = np.concatenate(dist_matched)/1000\n",
    "dist_unmatched_long = np.concatenate(dist_unmatched)/1000\n",
    "\n",
    "sns.lineplot(x='delta_orientation', y='min_dist', data=do_df.query('delta_orientation<3.15'), ci=90, color=co_color, ax=ax, marker='s')\n",
    "ax.errorbar([-0.5], np.mean(dist_matched_long), np.abs(np.mean(dist_matched_long)-np.percentile(sns.algorithms.bootstrap(dist_matched_long), [5,95])).reshape(2,1), marker='s')\n",
    "ax.errorbar([np.pi + 0.5], np.mean(dist_unmatched_long), np.abs(np.mean(dist_unmatched_long)-np.percentile(sns.algorithms.bootstrap(dist_unmatched_long), [5,95])).reshape(2,1), marker='s')\n",
    "ax.set_ylim((0.2,1.4))\n",
    "sns.despine(offset=5, ax=ax)\n",
    "\n",
    "ax.set_xticks([-0.5, 0, np.pi/2, np.pi, np.pi+0.5])\n",
    "ax.set_xticklabels(['Observed', '0', '$\\pi$/2', '$\\pi$', 'Shuffled'], rotation=45, fontdict={'size':12})\n",
    "ax.set_xlabel('Synapse/CO Alignment', fontdict={'size':14})\n",
    "ax.\n",
    "ax.grid(axis='x')"
   ]
  },
  {
   "cell_type": "code",
   "execution_count": null,
   "metadata": {},
   "outputs": [],
   "source": [
    "test_res = []\n",
    "for delta_orientation in delta_orientations:\n",
    "    test_dist = do_df[do_df['delta_orientation']==delta_orientation]['min_dist']\n",
    "    test_res.append(stats.ttest_ind(dist_matched_long, test_dist))\n",
    "\n",
    "test_res.append(stats.ttest_ind(dist_matched_long, dist_unmatched_long))"
   ]
  },
  {
   "cell_type": "code",
   "execution_count": null,
   "metadata": {},
   "outputs": [],
   "source": [
    "import statsmodels.api as sm"
   ]
  },
  {
   "cell_type": "code",
   "execution_count": null,
   "metadata": {},
   "outputs": [],
   "source": [
    "sm.stats.multipletests([t.pvalue for t in test_res])"
   ]
  },
  {
   "cell_type": "code",
   "execution_count": null,
   "metadata": {},
   "outputs": [],
   "source": [
    "all_stats = []\n",
    "for ii, row in do_df.groupby('delta_orientation').agg(list).iterrows():\n",
    "    all_stats.append(stats.mannwhitneyu(np.concatenate(dist_matched), row['min_dist']))"
   ]
  },
  {
   "cell_type": "code",
   "execution_count": null,
   "metadata": {},
   "outputs": [],
   "source": [
    "all_stats"
   ]
  },
  {
   "cell_type": "code",
   "execution_count": null,
   "metadata": {},
   "outputs": [],
   "source": [
    "stats.mannwhitneyu(np.concatenate(dist_matched), d_dist[])"
   ]
  },
  {
   "cell_type": "code",
   "execution_count": null,
   "metadata": {},
   "outputs": [],
   "source": [
    "plt.plot(do_df.groupby('delta_orientation').mean(), 's--')"
   ]
  },
  {
   "cell_type": "code",
   "execution_count": null,
   "metadata": {},
   "outputs": [],
   "source": [
    "fig, ax = plt.subplots(figsize=(6,3))\n",
    "sns.boxplot(x='delta_orientation', y='min_dist', data=do_df, ax=ax)\n",
    "ax.set_ylim(0,5000)"
   ]
  },
  {
   "cell_type": "code",
   "execution_count": null,
   "metadata": {},
   "outputs": [],
   "source": [
    "dist_rotated[0][8]"
   ]
  },
  {
   "cell_type": "code",
   "execution_count": null,
   "metadata": {},
   "outputs": [],
   "source": [
    "fig, ax = plt.plot()\n",
    "ax.plot(contact_center_df['contact_pt_orientation'], new_values[:,1], 's')"
   ]
  },
  {
   "cell_type": "markdown",
   "metadata": {},
   "source": [
    "#### 3d Plot of ER points"
   ]
  },
  {
   "cell_type": "code",
   "execution_count": null,
   "metadata": {},
   "outputs": [],
   "source": []
  },
  {
   "cell_type": "code",
   "execution_count": null,
   "metadata": {},
   "outputs": [],
   "source": [
    "for mesh_oid in ais_ids:\n",
    "    co_nrn_df = co_er_all_df[co_er_all_df['pt_root_id']==mesh_oid]\n",
    "    ma = trimesh_vtk.mesh_actor(ais_meshes[mesh_oid], color=(0.6, 0.6, 0.6), opacity=0.4)\n",
    "    pa = trimesh_vtk.point_cloud_actor(np.vstack(co_nrn_df['pt_position'])*voxel_resolution, size=250, color=co_color, opacity=1)\n",
    "\n",
    "    nrn_contact_center_df = all_contact_center_df[all_contact_center_df['root_id']==mesh_oid]\n",
    "    chc_contact_pts = np.vstack(nrn_contact_center_df['contact_pt_position'])\n",
    "    ca = trimesh_vtk.point_cloud_actor(chc_contact_pts, size=300, color=chc_color, opacity=0.8)\n",
    "    \n",
    "    camera = trimesh_vtk.oriented_camera(ais_meshes[mesh_oid].centroid, backoff=150)\n",
    "    trimesh_vtk.render_actors([ma, pa, ca], camera=camera, do_save=True, filename=plot_dir+'/CO_FIG_co_ais_{}.png'.format(mesh_oid))\n",
    "    \n",
    "    top_pt_ind = np.argmin(ais_meshes[mesh_oid].vertices[:,1])\n",
    "    top_pt = ais_meshes[mesh_oid].vertices[top_pt_ind]\n",
    "    delta_y = np.array([0, -17000, 0])\n",
    "\n",
    "    camera = trimesh_vtk.oriented_camera(top_pt - delta_y, backoff=65)\n",
    "    trimesh_vtk.render_actors([ma, pa, ca], camera=camera, do_save=True, filename=plot_dir+'/CO_FIG_co_ais_zoom_{}.png'.format(mesh_oid))"
   ]
  },
  {
   "cell_type": "markdown",
   "metadata": {},
   "source": [
    "#### Mapping Synapses across AISes"
   ]
  },
  {
   "cell_type": "code",
   "execution_count": null,
   "metadata": {},
   "outputs": [],
   "source": [
    "pa = trimesh_vtk.point_cloud_actor(ais_meshes[mesh_id].vertices[mapped_inds], size=200, color=(1, 0, 0), opacity=1)\n",
    "\n",
    "ma = trimesh_vtk.mesh_actor(ais_meshes[mesh_id], color=(0.4, 0.4, 0.4), opacity=0.7)\n",
    "pa2 = trimesh_vtk.point_cloud_actor(ais_meshes[oid].vertices[orig_inds], size=200, color=(0, 0, 0.7), opacity=1)\n",
    "ma2 = trimesh_vtk.mesh_actor(ais_meshes[oid] ,color=(0.6, 0.6, 0.6), opacity=0.7)\n",
    "lpa = trimesh_vtk.linked_point_actor(ais_meshes[oid].vertices[orig_inds], ais_meshes[mesh_id].vertices[mapped_inds])\n",
    "trimesh_vtk.render_actors([ma, ma2, pa, pa2, lpa])"
   ]
  },
  {
   "cell_type": "code",
   "execution_count": null,
   "metadata": {},
   "outputs": [],
   "source": [
    "min_dist_to_cos = []\n",
    "\n",
    "for oid in ais_ids:\n",
    "    ais_mesh = ais_meshes[oid]\n",
    "    co_df = co_er_all_df[(co_er_all_df['pt_root_id']==oid) & (co_er_all_df['clust_label']>0)]\n",
    "    contact_center_df = all_contact_df[np.isin(all_contact_df['root_id'], [oid]) & (all_contact_df['is_center'])]\n",
    "\n",
    "    syn_minds = contact_center_df['contact_center_mesh_ind']\n",
    "    co_minds = ais_mesh.filter_unmasked_indices(co_df['mesh_ind'])\n",
    "\n",
    "    ds = sparse.csgraph.dijkstra(ais_mesh.csgraph, indices=syn_minds)\n",
    "    min_dist_to_co = np.min(ds[:, co_minds], axis=1)\n",
    "    min_dist_to_cos.append(min_dist_to_co)"
   ]
  },
  {
   "cell_type": "code",
   "execution_count": null,
   "metadata": {},
   "outputs": [],
   "source": []
  },
  {
   "cell_type": "code",
   "execution_count": null,
   "metadata": {},
   "outputs": [],
   "source": [
    "bins = np.arange(-np.pi, np.pi+0.1, np.pi/4)\n",
    "plt.hist(co_er_all_df['orientation'], bins=bins, histtype='step', density=True, linewidth=2)\n",
    "plt.hist(all_contact_df['contact_pt_orientation'], bins=bins, histtype='step', density=True, linewidth)"
   ]
  },
  {
   "cell_type": "code",
   "execution_count": null,
   "metadata": {},
   "outputs": [],
   "source": [
    "del_orient = np.concatenate([v[0] for v in dist_to_cos])\n",
    "del_z = np.concatenate([v[1] for v in dist_to_cos])\n",
    "\n",
    "del_orient_non = np.concatenate([v[0] for v in dist_to_cos_non])\n",
    "\n",
    "del_z_non = np.concatenate([v[1] for v in dist_to_cos_non])"
   ]
  },
  {
   "cell_type": "code",
   "execution_count": null,
   "metadata": {},
   "outputs": [],
   "source": []
  },
  {
   "cell_type": "code",
   "execution_count": null,
   "metadata": {},
   "outputs": [],
   "source": []
  },
  {
   "cell_type": "code",
   "execution_count": null,
   "metadata": {},
   "outputs": [],
   "source": [
    "from itertools import product\n",
    "\n",
    "ds_mismatched = []\n",
    "ds_mismatched_non = []\n",
    "\n",
    "for ais_id_a, ais_id_b in product(ais_ids, ais_ids):\n",
    "    if ais_id_a == ais_id_b:\n",
    "        continue\n",
    "    else:\n",
    "        ns_df = nrn_syn_dfs[ais_id_b]\n",
    "        ds_mismatched.append(distance_to_co_pts(co_er_dfs[ais_id_a], ns_df[ns_df['is_chandelier']==True], median_rs[ais_id_a]))\n",
    "        ds_mismatched_non.append(distance_to_co_pts(co_er_dfs[ais_id_a], ns_df[ns_df['is_chandelier']==False], median_rs[ais_id_a]))"
   ]
  },
  {
   "cell_type": "code",
   "execution_count": null,
   "metadata": {},
   "outputs": [],
   "source": [
    "del_orient_mismatched = np.concatenate([v[0] for v in ds_mismatched])\n",
    "del_z_mismatched = np.concatenate([v[1] for v in ds_mismatched])"
   ]
  },
  {
   "cell_type": "code",
   "execution_count": null,
   "metadata": {},
   "outputs": [],
   "source": [
    "fig, ax = plt.subplots(figsize=(3,3))\n",
    "bins = np.arange(-np.pi, np.pi+0.001, np.pi/10)\n",
    "ax.hist(del_orient, edgecolor=chc_color, color=chc_color, density=True, bins=bins, )\n",
    "ax.hist(del_orient_mismatched, color='k', linewidth=3, histtype='step', density=True, bins=bins)\n",
    "\n",
    "# plt.hist(del_orient_non, histtype='step', linewidth=4, color=non_color, density=True, bins=bins)"
   ]
  },
  {
   "cell_type": "code",
   "execution_count": null,
   "metadata": {},
   "outputs": [],
   "source": [
    "fig, ax = plt.subplots(figsize=(3,3))\n",
    "bins = np.arange(-5250, 5251, 500)\n",
    "ax.hist(del_z, edgecolor=chc_color, color=chc_color, density=True, bins=bins, )\n",
    "ax.hist(del_z_mismatched, color='k', linewidth=3, histtype='step', density=True, bins=bins)\n",
    "\n",
    "# plt.hist(del_orient_non, histtype='step', linewidth=4, color=non_color, density=True, bins=bins)"
   ]
  },
  {
   "cell_type": "code",
   "execution_count": null,
   "metadata": {},
   "outputs": [],
   "source": [
    "jitterbar.jitterbar((np.abs(del_orient), np.abs(del_orient_mismatched)), (chc_color, non_color), scatter_kwargs={'alpha':0.2}, width=0.15, mode='median')"
   ]
  },
  {
   "cell_type": "code",
   "execution_count": null,
   "metadata": {},
   "outputs": [],
   "source": [
    "import pycircstat"
   ]
  },
  {
   "cell_type": "code",
   "execution_count": null,
   "metadata": {},
   "outputs": [],
   "source": [
    "pycircstat.cmtest(del_orient, del_orient_mismatched)"
   ]
  },
  {
   "cell_type": "code",
   "execution_count": null,
   "metadata": {},
   "outputs": [],
   "source": [
    "mismatch_synapses = np.histogram(np.concatenate(ds_mismatched), bins=bins)\n",
    "match_synapses = np.histogram(np.concatenate(dist_to_cos), bins=bins)\n",
    "mismatch_non = np.histogram(np.concatenate(ds_mismatched_non), bins=bins)\n",
    "match_non = np.histogram(np.concatenate(dist_to_cos_non), bins=bins)"
   ]
  },
  {
   "cell_type": "code",
   "execution_count": null,
   "metadata": {},
   "outputs": [],
   "source": [
    "fig, ax = plt.subplots(figsize=(4,4))\n",
    "ax.plot(bins[1:]/1000, np.cumsum(match_synapses[0])/sum(match_synapses[0]), color=chc_color, linewidth=2)\n",
    "ax.plot(bins[1:]/1000, np.cumsum(mismatch_synapses[0])/sum(mismatch_synapses[0]), color=chc_color, linewidth=2, linestyle=':')\n",
    "\n",
    "ax.plot(bins[1:]/1000, np.cumsum(match_non[0])/sum(match_non[0]), color=non_color, linewidth=2)\n",
    "ax.plot(bins[1:]/1000, np.cumsum(mismatch_non[0])/sum(mismatch_non[0]), color=non_color, linewidth=2, linestyle=':')\n",
    "\n",
    "ax.set_xlim(np.array([0, 5000])/1000)\n",
    "\n",
    "sns.despine(offset=5, ax=ax)\n",
    "ax.set_xlabel('Distance from CO point')\n",
    "ax.set_ylabel('CDF')"
   ]
  },
  {
   "cell_type": "code",
   "execution_count": null,
   "metadata": {},
   "outputs": [],
   "source": [
    "stats.mannwhitneyu(np.concatenate(dist_to_cos), np.concatenate(ds_mismatched), alternative='two-sided')"
   ]
  },
  {
   "cell_type": "code",
   "execution_count": null,
   "metadata": {},
   "outputs": [],
   "source": [
    "stats.mannwhitneyu(np.concatenate(dist_to_cos_non), np.concatenate(dist_to_cos), alternative='two-sided')"
   ]
  },
  {
   "cell_type": "code",
   "execution_count": null,
   "metadata": {},
   "outputs": [],
   "source": [
    "fig, axes = plt.subplots(figsize=(30,7), ncols=len(ais_ids))\n",
    "median_rs = []\n",
    "for ii, ais_id in enumerate(ais_ids):\n",
    "    ax = axes[ii]\n",
    "    nrn_er_df = er_location_df(ais_sks[ais_id], ais_meshes[ais_id], er_df[er_df['pt_root_id']==ais_id])\n",
    "    nrn_syn_df = ais_synapse_data[ais_synapse_data['post_pt_root_id']==ais_id]\n",
    "    median_r = np.median(ais_sks[ais_id].vertex_properties['rs']) / 2\n",
    "    median_rs.append(median_r)\n",
    "    nrn_er_df['d_orientation'] = np.pi * median_r * nrn_er_df['orientation']\n",
    "    nrn_syn_df['d_orientation'] = np.pi * median_r * nrn_syn_df['orientation']\n",
    "\n",
    "#     fig, ax = plt.subplots(figsize=(3,7))\n",
    "    sns.scatterplot(x='d_orientation', y='d_top', color=(0.3, 0.2, 0.3), s=15, data=nrn_er_df[nrn_er_df['func_id']==0], ax=ax, legend=False, edgecolor=None, alpha=0.3)\n",
    "    sns.scatterplot(x='d_orientation', y='d_top', color=(0.7, 0.2, 0), s=15, data=nrn_er_df[nrn_er_df['func_id']==1], ax=ax, legend=False, edgecolor=None, alpha=0.3)\n",
    "    # sns.scatterplot(x='d_orientation', y='d_top_skel', hue='is_chandelier', data=nrn_syn_df, s=100, alpha=0.8, palette='dark', ax=ax, legend=False)\n",
    "    ax.set_ylim((0,50000))\n",
    "    ax.invert_yaxis()\n",
    "    ax.set_aspect('equal')"
   ]
  },
  {
   "cell_type": "code",
   "execution_count": null,
   "metadata": {},
   "outputs": [],
   "source": [
    "ais_id = ais_ids[5]\n",
    "\n",
    "nrn_er_df = er_location_df(ais_sks[ais_id], ais_meshes[ais_id], er_df[er_df['pt_root_id']==ais_id])\n",
    "nrn_syn_df = ais_synapse_data[ais_synapse_data['post_pt_root_id']==ais_id]\n",
    "median_r = np.median(ais_sks[ais_id].vertex_properties['rs']) / 2\n",
    "\n",
    "nrn_er_df['d_orientation'] = np.pi * median_r * nrn_er_df['orientation']\n",
    "nrn_syn_df['d_orientation'] = np.pi * median_r * nrn_syn_df['orientation']\n",
    "\n",
    "fig, ax = plt.subplots(figsize=(3,7))\n",
    "sns.scatterplot(x='d_orientation', y='d_top', hue='func_id', s=15, data=nrn_er_df, ax=ax, legend=False)\n",
    "sns.scatterplot(x='d_orientation', y='d_top_skel', hue='is_chandelier', data=nrn_syn_df, s=100, alpha=0.8, palette='dark', ax=ax, legend=False)\n",
    "ax.set_ylim((0,40000))\n",
    "ax.invert_yaxis()\n",
    "ax.set_aspect('equal')"
   ]
  },
  {
   "cell_type": "code",
   "execution_count": null,
   "metadata": {},
   "outputs": [],
   "source": []
  },
  {
   "cell_type": "code",
   "execution_count": null,
   "metadata": {},
   "outputs": [],
   "source": []
  },
  {
   "cell_type": "code",
   "execution_count": null,
   "metadata": {},
   "outputs": [],
   "source": [
    "cell_df = dl.query_cell_types(soma_table)"
   ]
  },
  {
   "cell_type": "code",
   "execution_count": null,
   "metadata": {},
   "outputs": [],
   "source": [
    "from decimal import Decimal"
   ]
  },
  {
   "cell_type": "code",
   "execution_count": null,
   "metadata": {},
   "outputs": [],
   "source": [
    "a = cell_df['pt_root_id'].apply(Decimal)"
   ]
  },
  {
   "cell_type": "code",
   "execution_count": null,
   "metadata": {},
   "outputs": [],
   "source": []
  },
  {
   "cell_type": "code",
   "execution_count": null,
   "metadata": {},
   "outputs": [],
   "source": [
    "ais_mesh = ais_meshes[ais_ids[0]]\n",
    "syn_locs = all_contact_center_df[all_contact_center_df['root_id']==ais_ids[0]]"
   ]
  },
  {
   "cell_type": "code",
   "execution_count": null,
   "metadata": {},
   "outputs": [],
   "source": []
  },
  {
   "cell_type": "code",
   "execution_count": null,
   "metadata": {},
   "outputs": [],
   "source": [
    "ais_sk = ais_sks[ais_ids[0]]"
   ]
  },
  {
   "cell_type": "code",
   "execution_count": null,
   "metadata": {},
   "outputs": [],
   "source": [
    "trimesh.base.Geometry?"
   ]
  },
  {
   "cell_type": "code",
   "execution_count": null,
   "metadata": {},
   "outputs": [],
   "source": [
    "img_locs = [[94413, 49229, 1045], [100306, 59517, 970]]"
   ]
  },
  {
   "cell_type": "code",
   "execution_count": null,
   "metadata": {},
   "outputs": [],
   "source": [
    "from annotationframeworkclient import imagery"
   ]
  },
  {
   "cell_type": "code",
   "execution_count": null,
   "metadata": {},
   "outputs": [],
   "source": [
    "img = imagery.ImageryClient(dataset_name='pinky100', base_resolution=[4,4,40])"
   ]
  },
  {
   "cell_type": "code",
   "execution_count": null,
   "metadata": {},
   "outputs": [],
   "source": [
    "def make_bounds(center, width, height, depth=0):\n",
    "    half_depth = 0.5 * (depth-1)\n",
    "    half_width = 0.5 * (width-1)\n",
    "    half_height = 0.5 * (height-1)\n",
    "    offset = [half_width, half_height, half_depth]\n",
    "    lbounds = [int(x-h) for x,h in zip(center, offset)]\n",
    "    ubounds = [int(x+h) for x,h in zip(center, offset)]\n",
    "    return [lbounds, ubounds]"
   ]
  },
  {
   "cell_type": "code",
   "execution_count": null,
   "metadata": {},
   "outputs": [],
   "source": []
  },
  {
   "cell_type": "code",
   "execution_count": null,
   "metadata": {},
   "outputs": [],
   "source": [
    "img2 = img.image_cutout(bounds=make_bounds(img_locs[1], 400, 600, 1))"
   ]
  },
  {
   "cell_type": "code",
   "execution_count": null,
   "metadata": {},
   "outputs": [],
   "source": [
    "import numpy as np\n",
    "import matplotlib.pyplot as plt"
   ]
  },
  {
   "cell_type": "code",
   "execution_count": null,
   "metadata": {},
   "outputs": [],
   "source": [
    "img1.shape"
   ]
  },
  {
   "cell_type": "code",
   "execution_count": null,
   "metadata": {},
   "outputs": [],
   "source": [
    "plt.imshow(np.squeeze(img2).T)"
   ]
  },
  {
   "cell_type": "code",
   "execution_count": null,
   "metadata": {},
   "outputs": [],
   "source": [
    "img.save_imagery(f'{plot_dir}/CO_example_2', precomputed_image=img2)"
   ]
  },
  {
   "cell_type": "code",
   "execution_count": null,
   "metadata": {},
   "outputs": [],
   "source": []
  }
 ],
 "metadata": {
  "kernelspec": {
   "display_name": "“data_analysis”",
   "language": "python",
   "name": "jupyter_space"
  },
  "language_info": {
   "codemirror_mode": {
    "name": "ipython",
    "version": 3
   },
   "file_extension": ".py",
   "mimetype": "text/x-python",
   "name": "python",
   "nbconvert_exporter": "python",
   "pygments_lexer": "ipython3",
   "version": "3.6.6"
  }
 },
 "nbformat": 4,
 "nbformat_minor": 4
}
