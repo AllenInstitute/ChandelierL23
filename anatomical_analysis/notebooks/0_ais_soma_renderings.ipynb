{
 "cells": [
  {
   "cell_type": "code",
   "execution_count": null,
   "metadata": {},
   "outputs": [],
   "source": [
    "from common_preamble import *"
   ]
  },
  {
   "cell_type": "code",
   "execution_count": null,
   "metadata": {},
   "outputs": [],
   "source": [
    "mm = trimesh_io.MeshMeta(disk_cache_path=mesh_dir,\n",
    "                         cache_size=0, cv_path=mesh_cv_path, voxel_scaling=voxel_scaling)\n",
    "\n",
    "soma_meshes = [] \n",
    "ais_meshes = []\n",
    "for oid in complete_ais_ids:\n",
    "    soma_file = ais_mesh_dir + '/{}_soma.h5'.format(oid)\n",
    "    actors = []\n",
    "    if os.path.exists(soma_file):\n",
    "        soma_mesh = mm.mesh(filename=soma_file)\n",
    "        soma_meshes.append(soma_mesh)\n",
    "    else:\n",
    "        soma_meshes.append(None)\n",
    "        print('{} soma not found!'.format(oid))\n",
    "    ais_file = ais_mesh_dir + '/{}_ais.h5'.format(oid)\n",
    "    if os.path.exists(soma_file): \n",
    "        ais_mesh = mm.mesh(filename=ais_file)\n",
    "        ais_meshes.append(ais_mesh)\n",
    "    else:\n",
    "        ais_meshes.append(None)\n",
    "        print('{} AIS not found!'.format(oid))\n",
    "    "
   ]
  },
  {
   "cell_type": "code",
   "execution_count": null,
   "metadata": {},
   "outputs": [],
   "source": [
    "for ais_mesh, soma_mesh, oid in tqdm.tqdm(zip(ais_meshes, soma_meshes, complete_ais_ids), total=len(complete_ais_ids)):\n",
    "    if ais_mesh is None or soma_mesh is None:\n",
    "        continue\n",
    "    soma_actor = trimesh_vtk.mesh_actor(soma_mesh, color=non_color, opacity=1)\n",
    "    ais_actor = trimesh_vtk.mesh_actor(ais_mesh, color=ais_color, opacity=1)\n",
    "    ctr_pt = (soma_mesh+ais_mesh).bounding_box.center_mass\n",
    "    actors = [soma_actor, ais_actor]\n",
    "              \n",
    "    camera = trimesh_vtk.oriented_camera(ctr_pt, backoff=200)\n",
    "    trimesh_vtk.render_actors(actors, camera=camera, back_color=(1,1,1), scale=4,\n",
    "                                do_save=True, filename=plot_dir + '/ais_views/soma_ais_{}.png'.format(oid),\n",
    "                                VIDEO_WIDTH=800, VIDEO_HEIGHT=1200)"
   ]
  },
  {
   "cell_type": "code",
   "execution_count": null,
   "metadata": {},
   "outputs": [],
   "source": [
    "bad_mesh = ais_meshes[np.flatnonzero(complete_ais_ids==648518346349519354)[0]]"
   ]
  },
  {
   "cell_type": "code",
   "execution_count": null,
   "metadata": {},
   "outputs": [],
   "source": [
    "from meshparty import skeletonize"
   ]
  },
  {
   "cell_type": "code",
   "execution_count": null,
   "metadata": {},
   "outputs": [],
   "source": [
    "sk = skeletonize.skeletonize_mesh(bad_mesh, collapse_soma=False, invalidation_d=5000)"
   ]
  },
  {
   "cell_type": "code",
   "execution_count": null,
   "metadata": {},
   "outputs": [],
   "source": [
    "ma = trimesh_vtk.mesh_actor(bad_mesh)\n",
    "sa = trimesh_vtk.skeleton_actor(sk, color=(0,0,0), line_width=2)\n",
    "trimesh_vtk.render_actors([ma, sa])"
   ]
  },
  {
   "cell_type": "code",
   "execution_count": null,
   "metadata": {},
   "outputs": [],
   "source": [
    "mm2 = trimesh_io.MeshMeta(disk_cache_path='.',\n",
    "                         cache_size=0, cv_path=mesh_cv_path, voxel_scaling=voxel_scaling)"
   ]
  },
  {
   "cell_type": "code",
   "execution_count": null,
   "metadata": {},
   "outputs": [],
   "source": []
  },
  {
   "cell_type": "markdown",
   "metadata": {},
   "source": [
    "---\n",
    "#### Save masks\n",
    "\n",
    "Note: May want to gzip the resulting h5 at the end. Using the dataframe this way does not engage the compression in pandas very naturally, so the file ends up being much bigger than it needs to be."
   ]
  },
  {
   "cell_type": "code",
   "execution_count": null,
   "metadata": {},
   "outputs": [],
   "source": [
    "soma_masks = {}\n",
    "ais_masks = {}\n",
    "rel_oids = []\n",
    "for ais_mesh, soma_mesh, oid in zip(ais_meshes, soma_meshes, complete_ais_ids):\n",
    "    if ais_mesh is None or soma_mesh is None:\n",
    "        continue\n",
    "    rel_oids.append(oid)\n",
    "    soma_masks[oid] = soma_mesh.node_mask\n",
    "    ais_masks[oid] = ais_mesh.node_mask"
   ]
  },
  {
   "cell_type": "code",
   "execution_count": null,
   "metadata": {},
   "outputs": [],
   "source": [
    "import h5py\n",
    "\n",
    "mask_dict = {}\n",
    "for oid in soma_masks.keys():\n",
    "    mask_dict[oid] = {}\n",
    "    mask_dict[oid]['soma'] = soma_masks[oid]\n",
    "    mask_dict[oid]['ais'] = ais_masks[oid]\n",
    "    \n",
    "mask_filename = base_dir + '/data/in/ais_and_soma_masks_v{}.h5'.format(data_version)\n",
    "with h5py.File(name=mask_filename, mode='w') as f:\n",
    "    for oid in mask_dict:\n",
    "        grp = f.create_group(str(oid))\n",
    "        grp.create_dataset('soma', data=soma_masks[oid], compression='gzip')\n",
    "        grp.create_dataset('ais', data=ais_masks[oid], compression='gzip')"
   ]
  },
  {
   "cell_type": "markdown",
   "metadata": {},
   "source": [
    "---\n",
    "Example loading function:"
   ]
  },
  {
   "cell_type": "code",
   "execution_count": null,
   "metadata": {},
   "outputs": [],
   "source": [
    "def import_masks_file(fname):\n",
    "    soma_masks = {}\n",
    "    ais_masks = {}\n",
    "    with h5py.File(fname, mode='r') as f:\n",
    "        oids = f.keys()\n",
    "        for oid in oids:\n",
    "            soma_masks[np.int(oid)] = f[oid]['soma'][()]\n",
    "            ais_masks[np.int(oid)] = f[oid]['ais'][()]\n",
    "    return soma_masks, ais_masks"
   ]
  },
  {
   "cell_type": "markdown",
   "metadata": {},
   "source": [
    "---\n",
    "### Skeletonize AISes"
   ]
  },
  {
   "cell_type": "code",
   "execution_count": null,
   "metadata": {},
   "outputs": [],
   "source": [
    "len(complete_ais_ids)"
   ]
  },
  {
   "cell_type": "code",
   "execution_count": null,
   "metadata": {},
   "outputs": [],
   "source": [
    "soma_df = dl.query_cell_types(soma_table)\n",
    "ids_e = soma_df[soma_df['cell_type']=='e']['pt_root_id'].values\n",
    "ids_i = soma_df[soma_df['cell_type']=='i']['pt_root_id'].values"
   ]
  },
  {
   "cell_type": "code",
   "execution_count": null,
   "metadata": {},
   "outputs": [],
   "source": [
    "ee_df = dl.query_synapses(synapse_table, pre_ids=ids_e, post_ids=ids_e)\n",
    "ei_df = dl.query_synapses(synapse_table, pre_ids=ids_e, post_ids=ids_i)\n",
    "ie_df = dl.query_synapses(synapse_table, pre_ids=ids_i, post_ids=ids_e)\n",
    "ii_df = dl.query_synapses(synapse_table, pre_ids=ids_i, post_ids=ids_i)"
   ]
  },
  {
   "cell_type": "code",
   "execution_count": null,
   "metadata": {},
   "outputs": [],
   "source": [
    "len(ids_e), len(ids_i)"
   ]
  },
  {
   "cell_type": "code",
   "execution_count": null,
   "metadata": {},
   "outputs": [],
   "source": [
    "len(ee_df), len(ei_df), len(ie_df), len(ii_df)"
   ]
  },
  {
   "cell_type": "code",
   "execution_count": null,
   "metadata": {},
   "outputs": [],
   "source": [
    "len(ee_df)"
   ]
  }
 ],
 "metadata": {
  "kernelspec": {
   "display_name": "analysis",
   "language": "python",
   "name": "analysis"
  },
  "language_info": {
   "codemirror_mode": {
    "name": "ipython",
    "version": 3
   },
   "file_extension": ".py",
   "mimetype": "text/x-python",
   "name": "python",
   "nbconvert_exporter": "python",
   "pygments_lexer": "ipython3",
   "version": "3.8.6"
  }
 },
 "nbformat": 4,
 "nbformat_minor": 4
}
