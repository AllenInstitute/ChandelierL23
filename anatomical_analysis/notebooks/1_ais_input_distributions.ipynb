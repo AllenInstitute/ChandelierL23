{
 "cells": [
  {
   "cell_type": "code",
   "execution_count": null,
   "metadata": {},
   "outputs": [],
   "source": [
    "from common_preamble import *"
   ]
  },
  {
   "cell_type": "markdown",
   "metadata": {},
   "source": [
    "#### ChC AIS-targeting fraction"
   ]
  },
  {
   "cell_type": "code",
   "execution_count": null,
   "metadata": {},
   "outputs": [],
   "source": [
    "syn_in_analysis_set = np.isin(ais_synapse_data['post_pt_root_id'], list(ais_id_to_analyze))\n",
    "ais_synapse_data = ais_synapse_data[syn_in_analysis_set]\n",
    "\n",
    "in_analysis_set = np.isin(aggregated_ais_syn_df['post_pt_root_id'], list(ais_id_to_analyze))\n",
    "aggregated_ais_syn_df = aggregated_ais_syn_df[in_analysis_set]\n",
    "\n",
    "core_df = dl.query_cell_ids('manual_ais')\n",
    "omit_targets = np.unique(core_df['pt_root_id'].values)\n",
    "\n",
    "#pre_ais_ids = np.unique(ais_synapse_data[ais_synapse_data['is_chandelier']==True]['pre_pt_root_id'])\n",
    "pre_ais_ids = np.unique(ais_synapse_data['pre_pt_root_id'])\n",
    "targ_ids = np.unique(ais_synapse_data['post_pt_root_id'])\n",
    "targ_ids_filt = targ_ids[~np.isin(targ_ids, omit_targets)]"
   ]
  },
  {
   "cell_type": "code",
   "execution_count": null,
   "metadata": {},
   "outputs": [],
   "source": [
    "all_syns = dl.query_synapses(synapse_table, pre_ids=pre_ais_ids, post_ids=targ_ids, import_via_buffer=False)\n",
    "all_syns_core = dl.query_synapses(synapse_table, pre_ids=pre_ais_ids, post_ids=omit_targets, import_via_buffer=False)"
   ]
  },
  {
   "cell_type": "code",
   "execution_count": null,
   "metadata": {},
   "outputs": [],
   "source": [
    "import copy\n",
    "ais_synapse_copy = copy.copy(ais_synapse_data)\n",
    "ais_synapse_copy['is_ais'] = True\n",
    "all_syn_label = all_syns.merge( ais_synapse_copy[['id', 'is_ais']], on='id', how='left').fillna(False)\n",
    "all_syn_label = all_syn_label[['pre_pt_root_id', 'is_ais', 'id']].groupby(['pre_pt_root_id', 'is_ais']).count().reset_index()\n",
    "all_syn_label = all_syn_label.pivot(index='pre_pt_root_id', columns='is_ais', values='id').fillna(0)\n",
    "all_syn_label['All'] = np.sum(all_syn_label, axis=1)\n",
    "all_syn_label = all_syn_label.reset_index()\n",
    "all_syn_label = all_syn_label.merge(ais_synapse_copy[['pre_pt_root_id', 'is_chandelier']].drop_duplicates(), how='left', on='pre_pt_root_id')\n",
    "all_syn_label['FractionAIS'] = all_syn_label[True] / all_syn_label['All']"
   ]
  },
  {
   "cell_type": "code",
   "execution_count": null,
   "metadata": {},
   "outputs": [],
   "source": [
    "fig, ax = plt.subplots(figsize=(3,3), facecolor='w')\n",
    "sns.scatterplot(y='All', x='FractionAIS', hue='is_chandelier', data=all_syn_label, palette=[non_color, chc_color], alpha=0.4, ax=ax)\n",
    "ax.set_yscale('log')\n",
    "ax.set_ylabel('# Automated Synapses')\n",
    "ax.set_xlabel('Fraction AIS')\n",
    "ax.legend(bbox_to_anchor=(1.7, 1))\n",
    "sns.despine(ax=ax, offset=5)\n",
    "# fig.savefig(f'{plot_dir}/specificity.pdf', bbox_inches='tight')"
   ]
  },
  {
   "cell_type": "markdown",
   "metadata": {},
   "source": [
    "---"
   ]
  },
  {
   "cell_type": "code",
   "execution_count": null,
   "metadata": {},
   "outputs": [],
   "source": [
    "soma_df = dl.query_cell_types(soma_table)"
   ]
  },
  {
   "cell_type": "code",
   "execution_count": null,
   "metadata": {},
   "outputs": [],
   "source": [
    "def donut_plot(dist, ax=None, inner_radius=0.7, outer_radius=1, **kwargs):\n",
    "    if ax is None:\n",
    "        fig, ax = plt.subplots()\n",
    "    ax.pie(dist, radius=outer_radius, **kwargs)\n",
    "    circ=plt.Circle( (0,0), inner_radius, color='white')\n",
    "    ax.add_artist(circ)"
   ]
  },
  {
   "cell_type": "code",
   "execution_count": null,
   "metadata": {},
   "outputs": [],
   "source": [
    "fig, ax = plt.subplots(figsize=(3,3), facecolor='w')\n",
    "donut_plot( (sum(all_syn_label[False]), sum(all_syn_label[True])),\n",
    "           inner_radius=0.6, ax=ax, colors=(non_color, chc_color),\n",
    "           labels=['Non-AIS \\n({})'.format(int(sum(all_syn_label[False]))),\n",
    "                   'AIS\\n({})'.format(int(sum(all_syn_label[True])))])\n",
    "# fig.savefig(plot_dir + '/chc_ais_targeting_total.pdf',  bbox_inches=\"tight\")"
   ]
  },
  {
   "cell_type": "markdown",
   "metadata": {},
   "source": [
    "---\n",
    "#### AIS-based plots"
   ]
  },
  {
   "cell_type": "code",
   "execution_count": null,
   "metadata": {},
   "outputs": [],
   "source": [
    "col_to_describe = ['num_cells', 'syn_net', 'syn_mean', 'syn_median', 'syn_max']\n",
    "suffix = ['_chc', '_non']\n",
    "from itertools import product\n",
    "cols_to_show = [c+s for c,s in product(col_to_describe, suffix)]\n",
    "ais_data_described_df = aggregated_ais_syn_df[cols_to_show].describe(percentiles=[]).unstack().unstack(1)\n",
    "ais_data_described_df.to_csv(plot_dir + '/ais_data_summary_v{}.csv'.format(data_version))"
   ]
  },
  {
   "cell_type": "code",
   "execution_count": null,
   "metadata": {},
   "outputs": [],
   "source": [
    "figsize=(2,2)\n",
    "col_to_plot = ['num_cells', 'syn_net', 'syn_mean', 'syn_median', 'syn_max']\n",
    "xlabels = ['# Cells', '# Synapses', 'Mean Synapse/Connection', 'Median Synapse/Connection', 'Max Synapse/Connection']\n",
    "for col, xlab in zip(col_to_plot, xlabels):\n",
    "    fc, ac, fn, an = plot_data_pair(aggregated_ais_syn_df, col, chc_color, non_color, figsize=figsize, xlabel=xlab,\n",
    "                                    axis_label_font=axis_label_font, axis_tick_font=axis_tick_font)\n",
    "    \n",
    "    fc.savefig(plot_dir + '/{}_chc.pdf'.format(col),  bbox_inches=\"tight\")\n",
    "    fn.savefig(plot_dir + '/{}_non.pdf'.format(col),  bbox_inches=\"tight\")"
   ]
  },
  {
   "cell_type": "code",
   "execution_count": null,
   "metadata": {},
   "outputs": [],
   "source": [
    "figsize=(2,2)\n",
    "col_to_plot = ['num_cells']\n",
    "xlabels = ['# Cells', '# Synapses', 'Mean Synapse/Connection', 'Median Synapse/Connection', 'Max Synapse/Connection']\n",
    "\n",
    "for col, xlab in zip(col_to_plot, xlabels):\n",
    "    fc, ac, fn, an = plot_data_pair(aggregated_ais_syn_df, col, chc_color, non_color, figsize=figsize, xlabel=xlab,\n",
    "                                    axis_label_font=axis_label_font, axis_tick_font=axis_tick_font)\n",
    "    ac.set_xlim(-0.5,10.5)\n",
    "    fc.savefig(plot_dir + '/{}_chc.pdf'.format(col),  bbox_inches=\"tight\")\n",
    "    fn.savefig(plot_dir + '/{}_non.pdf'.format(col),  bbox_inches=\"tight\")"
   ]
  },
  {
   "cell_type": "code",
   "execution_count": null,
   "metadata": {},
   "outputs": [],
   "source": [
    "aggregated_ais_syn_df['syn_max_chc'].describe()"
   ]
  },
  {
   "cell_type": "code",
   "execution_count": null,
   "metadata": {},
   "outputs": [],
   "source": [
    "sum(aggregated_ais_syn_df['syn_max_chc'] > 2)"
   ]
  },
  {
   "cell_type": "code",
   "execution_count": null,
   "metadata": {},
   "outputs": [],
   "source": [
    "aggregated_ais_syn_df.columns"
   ]
  },
  {
   "cell_type": "code",
   "execution_count": null,
   "metadata": {},
   "outputs": [],
   "source": [
    "y, bins = np.histogram(aggregated_ais_syn_df['syn_net_chc'], bins=np.arange(0,25))"
   ]
  },
  {
   "cell_type": "code",
   "execution_count": null,
   "metadata": {},
   "outputs": [],
   "source": []
  },
  {
   "cell_type": "code",
   "execution_count": null,
   "metadata": {},
   "outputs": [],
   "source": [
    "np.std(aggregated_ais_syn_df['syn_net_chc'])"
   ]
  },
  {
   "cell_type": "code",
   "execution_count": null,
   "metadata": {},
   "outputs": [],
   "source": [
    "col_to_plot = ['size_net']\n",
    "xlabels = ['Total Synapse Size']\n",
    "for col, xlab in zip(col_to_plot, xlabels):\n",
    "    fc, ac, fn, an = plot_data_pair(aggregated_ais_syn_df, col, chc_color, non_color, bin_increment=400, bin_start=50, xmax_extra=500,\n",
    "                                    xlabel=xlab, figsize=figsize, axis_label_font=axis_label_font, axis_tick_font=axis_tick_font)\n",
    "\n",
    "    fc.savefig(plot_dir + '/{}_chc.pdf'.format(col), bbox_inches=\"tight\")\n",
    "    fn.savefig(plot_dir + '/{}_non.pdf'.format(col), bbox_inches=\"tight\")"
   ]
  },
  {
   "cell_type": "code",
   "execution_count": null,
   "metadata": {},
   "outputs": [],
   "source": [
    "col_to_plot = ['size_mean']\n",
    "xlabels = ['Mean Synapse Size']\n",
    "for col, xlab in zip(col_to_plot, xlabels):\n",
    "    fc, ac, fn, an = plot_data_pair(aggregated_ais_syn_df, col, chc_color, non_color, bin_increment=50, bin_start=50,\n",
    "                                    xlabel=xlab, figsize=figsize, axis_label_font=axis_label_font, axis_tick_font=axis_tick_font)\n",
    "    fc.savefig(plot_dir + '/{}_chc.pdf'.format(col), bbox_inches=\"tight\")\n",
    "    fn.savefig(plot_dir + '/{}_non.pdf'.format(col), bbox_inches=\"tight\")"
   ]
  },
  {
   "cell_type": "code",
   "execution_count": null,
   "metadata": {},
   "outputs": [],
   "source": [
    "# from jitterbar import jitterbar\n",
    "\n",
    "# col_to_plot = 'size_mean'\n",
    "\n",
    "# fig, ax = plt.subplots(figsize=(2,4))\n",
    "# suffix = ['_chc', '_non']\n",
    "# data = [aggregated_ais_syn_df[col_to_plot+s][aggregated_ais_syn_df[col_to_plot+s]>0] for s in suffix]\n",
    "# clrs = [chc_color, non_color]\n",
    "# jitterbar(data, clrs, ax=ax, scatter_kwargs={'alpha':0.4, 's':20}, labels=['ChC', 'Non-ChC'], width=0.4, gap=0.3)\n",
    "# ax.set_ylim((0,1200))\n",
    "# ax.set_yticks(np.arange(0,1201,200))\n",
    "# ax.set_ylabel('Mean synapse size (AU)')\n",
    "# sns.despine(offset=2, ax=ax, trim=True)\n",
    "# fig.savefig(plot_dir + '/jitter_bar_{}.pdf'.format(col_to_plot), bbox_inches=\"tight\")\n",
    "# from scipy import stats\n",
    "# stats.ttest_ind(data[0], data[1])\n"
   ]
  },
  {
   "cell_type": "markdown",
   "metadata": {},
   "source": [
    "---\n",
    "#### Per Connection Plots"
   ]
  },
  {
   "cell_type": "code",
   "execution_count": null,
   "metadata": {},
   "outputs": [],
   "source": [
    "ais_synapse_data.head()"
   ]
  },
  {
   "cell_type": "code",
   "execution_count": null,
   "metadata": {},
   "outputs": [],
   "source": [
    "# ais_synapse_data_f = ais_synapse_data[ais_synapse_filter]\n",
    "ais_synapse_data_f = ais_synapse_data"
   ]
  },
  {
   "cell_type": "code",
   "execution_count": null,
   "metadata": {},
   "outputs": [],
   "source": [
    "edge_list = ais_synapse_data_f[['pre_pt_root_id', 'post_pt_root_id', 'syn_per_edge', 'is_chandelier']].groupby(['pre_pt_root_id', 'post_pt_root_id']).mean().reset_index()\n",
    "edge_syn_chc = edge_list[edge_list['is_chandelier']==True]['syn_per_edge'].values\n",
    "edge_syn_non = edge_list[edge_list['is_chandelier']==False]['syn_per_edge'].values"
   ]
  },
  {
   "cell_type": "code",
   "execution_count": null,
   "metadata": {},
   "outputs": [],
   "source": [
    "output_count_df = ais_synapse_data_f.query('is_chandelier').groupby('pre_pt_root_id').count().reset_index()[['pre_pt_root_id', 'id']].rename(columns={'id':'num_output'})"
   ]
  },
  {
   "cell_type": "code",
   "execution_count": null,
   "metadata": {},
   "outputs": [],
   "source": [
    "edge_list_plus = edge_list.merge(output_count_df, left_on='pre_pt_root_id', right_on='pre_pt_root_id', how='left')"
   ]
  },
  {
   "cell_type": "code",
   "execution_count": null,
   "metadata": {},
   "outputs": [],
   "source": [
    "edge_syn_dict = {'edge_syn_chc':edge_syn_chc, 'edge_syn_non':edge_syn_non}\n",
    "xlab = '# Syn/Connection'\n",
    "fc, ac, fn, an = plot_data_pair(edge_syn_dict, 'edge_syn', chc_color, non_color, figsize=figsize, xlabel=xlab,\n",
    "                                axis_label_font=axis_label_font, axis_tick_font=axis_tick_font, ylabel='# Connections')"
   ]
  },
  {
   "cell_type": "code",
   "execution_count": null,
   "metadata": {},
   "outputs": [],
   "source": [
    "sns.histplot(edge_list_plus.query('is_chandelier and num_output > 0')['syn_per_edge'], bins=np.arange(0.5,11))"
   ]
  },
  {
   "cell_type": "code",
   "execution_count": null,
   "metadata": {},
   "outputs": [],
   "source": [
    "sns.histplot(edge_list_plus.query('is_chandelier and num_output > 20')['syn_per_edge'], bins=np.arange(0.5,11))"
   ]
  },
  {
   "cell_type": "code",
   "execution_count": null,
   "metadata": {},
   "outputs": [],
   "source": [
    "edge_list_chc = edge_list[edge_list['is_chandelier']==True]\n",
    "edge_list_non = edge_list[edge_list['is_chandelier']==False]\n",
    "\n",
    "edge_desc_chc = edge_list_chc['syn_per_edge'].describe()\n",
    "edge_desc_non = edge_list_non['syn_per_edge'].describe()\n",
    "\n",
    "edge_desc_df = pd.DataFrame([edge_desc_chc.rename('syn_per_connection_chc'),\n",
    "                             edge_desc_non.rename('syn_per_connection_non')])\n",
    "\n",
    "edge_desc_df.to_csv(plot_dir + '/syn_per_connection_stats_v{}.csv'.format(data_version))"
   ]
  },
  {
   "cell_type": "code",
   "execution_count": null,
   "metadata": {},
   "outputs": [],
   "source": [
    "edge_syn_dict = {'edge_syn_chc':edge_syn_chc, 'edge_syn_non':edge_syn_non}\n",
    "xlab = '# Syn/Connection'\n",
    "fc, ac, fn, an = plot_data_pair(edge_syn_dict, 'edge_syn', chc_color, non_color, figsize=figsize, xlabel=xlab,\n",
    "                                axis_label_font=axis_label_font, axis_tick_font=axis_tick_font, ylabel='# Connections')\n",
    "fc.savefig(plot_dir + '/{}_chc.pdf'.format('edge_syn'), bbox_inches=\"tight\")\n",
    "fn.savefig(plot_dir + '/{}_non.pdf'.format('edge_syn'), bbox_inches=\"tight\")"
   ]
  },
  {
   "cell_type": "code",
   "execution_count": null,
   "metadata": {},
   "outputs": [],
   "source": [
    "edge_syn_chc_plus20 = edge_list_plus.query('is_chandelier and num_output > 20')['syn_per_edge'].values"
   ]
  },
  {
   "cell_type": "code",
   "execution_count": null,
   "metadata": {},
   "outputs": [],
   "source": [
    "edge_syn_chc_plus20.shape"
   ]
  },
  {
   "cell_type": "code",
   "execution_count": null,
   "metadata": {},
   "outputs": [],
   "source": [
    "figsize=(2,2)\n",
    "\n",
    "yct, ybin = np.histogram(edge_syn_chc, bins=np.arange(1,max(edge_syn_chc)+1))\n",
    "yp_ct, ybin = np.histogram(edge_syn_chc_plus20, bins=np.arange(1,max(edge_syn_chc)+1))\n",
    "\n",
    "fig, ax = plt.subplots(figsize=figsize)\n",
    "fit_p = 1/np.mean(edge_syn_chc)\n",
    "fit_ct = np.power((1-fit_p),ybin[:-1]-1) * fit_p\n",
    "ax.plot(ybin[0:-1], fit_ct, 'k--', alpha=0.8, linewidth=2)\n",
    "ax.plot(ybin[0:-1], yct/np.sum(yct), 'o', markersize=10, markeredgecolor='w', color=chc_color, alpha=0.8)\n",
    "ax.plot(ybin[0:-1], yp_ct/np.sum(yp_ct), 's', markersize=10, markeredgecolor='k', markerfacecolor='none' )\n",
    "\n",
    "ax.set_yscale('log')\n",
    "sns.despine(ax=ax, offset=5)\n",
    "set_axis_size(*figsize,ax)\n",
    "ax.set_xlabel('Syn./Connection')\n",
    "ax.set_ylabel('# Connections')\n",
    "print(fit_p)\n",
    "fig.savefig(plot_dir + '/connection_weight_distribution.pdf', bbox_inches=\"tight\")\n",
    "pd.DataFrame({'geometric_p': [fit_p]}).to_csv(plot_dir + '/connection_weight_geometric_fit.csv')"
   ]
  },
  {
   "cell_type": "markdown",
   "metadata": {},
   "source": [
    "---"
   ]
  },
  {
   "cell_type": "code",
   "execution_count": null,
   "metadata": {},
   "outputs": [],
   "source": [
    "figsize=(2,2)\n",
    "\n",
    "n_non_syns = np.sum(ais_synapse_data_f['is_chandelier']==False)\n",
    "n_chc_syns = np.sum(ais_synapse_data_f['is_chandelier']==True)\n",
    "\n",
    "fig, ax = plt.subplots(figsize=figsize)\n",
    "\n",
    "ax.pie([n_non_syns, n_chc_syns], colors=[non_color, chc_color], labels=['Non-ChC (n={})'.format(n_non_syns), 'ChC (n={})'.format(n_chc_syns)])\n",
    "ax.add_artist(plt.Circle( (0,0), 0.6, color='white'))\n",
    "ax.set_title('Synapses onto AIS')\n",
    "fig.savefig(plot_dir + '/num_syns_donut.pdf', bbox_inches='tight')"
   ]
  },
  {
   "cell_type": "markdown",
   "metadata": {},
   "source": [
    "---\n",
    "##### Per Synapse Plots"
   ]
  },
  {
   "cell_type": "code",
   "execution_count": null,
   "metadata": {},
   "outputs": [],
   "source": [
    "d_top_chc = ais_synapse_data[ais_synapse_data['is_chandelier']==True]['d_top_skel'] / 1000\n",
    "d_top_non = ais_synapse_data[ais_synapse_data['is_chandelier']==False]['d_top_skel'] / 1000\n",
    "d_top_non = d_top_non[~np.isinf(d_top_non)]\n",
    "d_top_chc = d_top_chc[~np.isinf(d_top_chc)]\n",
    "bins = np.arange(0, np.ceil(50), 2.5)"
   ]
  },
  {
   "cell_type": "code",
   "execution_count": null,
   "metadata": {},
   "outputs": [],
   "source": [
    "fig, ax = plt.subplots(figsize=(3,6))\n",
    "\n",
    "d_top_non_hist, _ = np.histogram(d_top_non, bins=bins)\n",
    "d_top_chc_hist, _ = np.histogram(d_top_chc, bins=bins)\n",
    "\n",
    "ax.barh(bins[0:-1]+1.25, d_top_non_hist / (len(d_top_non)+len(d_top_chc)), color=non_color, alpha=0.95, edgecolor='w', height=2.5)\n",
    "ax.barh(bins[0:-1]+1.25, d_top_chc_hist / (len(d_top_non)+len(d_top_chc)), color=chc_color, alpha=0.65, edgecolor='w', height=2.5)\n",
    "\n",
    "ax.invert_yaxis()\n",
    "ax.set_ylabel('Distance from AIS start ($\\mu m$)')\n",
    "ax.set_xlabel('Fraction AIS Synapses')\n",
    "ax.xaxis.tick_top()\n",
    "ax.set_yticks(np.arange(0,51,10))\n",
    "ax.xaxis.set_label_position('top')\n",
    "sns.despine(offset=10, trim=True, top=False, ax=ax)\n",
    "set_axis_fonts(ax, axis_label_font, axis_tick_font, xprecision=2, yprecision=0)\n",
    "fig.tight_layout()\n",
    "fig.savefig(plot_dir + '/synapse_distance_along_ais.pdf', bbox_inches=\"tight\")"
   ]
  },
  {
   "cell_type": "code",
   "execution_count": null,
   "metadata": {},
   "outputs": [],
   "source": [
    "fig, ax = plt.subplots(figsize=(3,6))\n",
    "sns.distplot(d_top_non, color=non_color, vertical=True, bins=bins,\n",
    "                     ax=ax, kde=False, hist_kws={'alpha': 0.95, 'edgecolor':'w'})\n",
    "sns.distplot(d_top_chc, color=chc_color, vertical=True, bins=bins,\n",
    "                     ax=ax, kde=False, hist_kws={'alpha': 0.65, 'edgecolor':'w'})\n",
    "\n",
    "ax.invert_yaxis()\n",
    "ax.set_ylabel('Distance from AIS start ($\\mu m$)')\n",
    "ax.set_xlabel('# Synapses')\n",
    "ax.xaxis.tick_top()\n",
    "ax.set_yticks(np.arange(0,51,10))\n",
    "ax.xaxis.set_label_position('top')\n",
    "sns.despine(offset=10, trim=True, top=False, ax=ax)\n",
    "set_axis_fonts(ax, axis_label_font, axis_tick_font)\n",
    "fig.tight_layout()\n",
    "fig.savefig(plot_dir + '/synapse_distance_along_ais.pdf', bbox_inches=\"tight\")"
   ]
  },
  {
   "cell_type": "code",
   "execution_count": null,
   "metadata": {},
   "outputs": [],
   "source": [
    "fig, ax = plt.subplots(figsize=(4,8))\n",
    "sns.distplot(d_top_non, color=non_color, vertical=True, bins=bins,\n",
    "                     ax=ax, kde=False, hist_kws={'alpha': 1, 'edgecolor':non_color, 'histtype':'step', 'linewidth':4},\n",
    "                     norm_hist=False)\n",
    "sns.distplot(d_top_chc, color=chc_color, vertical=True, bins=bins,\n",
    "                     ax=ax, kde=False, hist_kws={'alpha': 1, 'edgecolor':chc_color, 'histtype':'step', 'linewidth':4},\n",
    "                     norm_hist=False)\n",
    "\n",
    "ax.invert_yaxis()\n",
    "ax.set_ylabel('Distance from AIS start ($\\mu m$)')\n",
    "ax.set_xlabel('# Synapses')\n",
    "ax.set_xlim((-4, ax.get_xlim()[1]))\n",
    "ax.xaxis.tick_top()\n",
    "ax.set_yticks(np.arange(0,51,10))\n",
    "ax.xaxis.set_label_position('top')\n",
    "sns.despine(offset=10, trim=True, top=False, ax=ax)\n",
    "set_axis_fonts(ax, axis_label_font, axis_tick_font)\n",
    "fig.tight_layout()\n",
    "fig.savefig(plot_dir + '/synapse_distance_along_ais_lines.pdf', bbox_inches=\"tight\")"
   ]
  },
  {
   "cell_type": "code",
   "execution_count": null,
   "metadata": {},
   "outputs": [],
   "source": [
    "size_all_chc = ais_synapse_data_f[ais_synapse_data_f['is_chandelier']==True]['size']\n",
    "size_all_non = ais_synapse_data_f[ais_synapse_data_f['is_chandelier']==False]['size']\n",
    "size_all_dict = {'syn_size_chc': size_all_chc, 'syn_size_non': size_all_non}\n",
    "xlab = 'Synapse size'\n",
    "fc, ac, fn, an = plot_data_pair(size_all_dict, 'syn_size', chc_color, non_color, figsize=figsize, xlabel=xlab, bin_increment=50, bin_start=50,\n",
    "                                axis_label_font=axis_label_font, axis_tick_font=axis_tick_font, ylabel='# Synapses')\n",
    "\n",
    "fc.savefig(plot_dir + '/{}_chc.pdf'.format('syn_size'), bbox_inches=\"tight\")\n",
    "fn.savefig(plot_dir + '/{}_non.pdf'.format('syn_size'), bbox_inches=\"tight\")"
   ]
  },
  {
   "cell_type": "code",
   "execution_count": null,
   "metadata": {},
   "outputs": [],
   "source": [
    "size_desc_chc = size_all_chc.describe()\n",
    "size_desc_non = size_all_non.describe()\n",
    "\n",
    "size_desc_df = pd.DataFrame([size_desc_chc.rename('synapse_size_chc'),\n",
    "                             size_desc_non.rename('synapse_size_non')])\n",
    "\n",
    "size_desc_df.to_csv(plot_dir + '/synapse_size_description_v{}.csv'.format(data_version))"
   ]
  },
  {
   "cell_type": "code",
   "execution_count": null,
   "metadata": {},
   "outputs": [],
   "source": []
  },
  {
   "cell_type": "markdown",
   "metadata": {},
   "source": [
    "---"
   ]
  },
  {
   "cell_type": "code",
   "execution_count": null,
   "metadata": {},
   "outputs": [],
   "source": [
    "n_multi_chc = np.sum(np.concatenate(aggregated_ais_syn_df['syns_chc'].apply(lambda x: np.array(x)[np.array(x)>1])))\n",
    "n_multi_non = np.sum(np.concatenate(aggregated_ais_syn_df['syns_non'].apply(lambda x: np.array(x)[np.array(x)>1])))"
   ]
  },
  {
   "cell_type": "code",
   "execution_count": null,
   "metadata": {},
   "outputs": [],
   "source": [
    "fig, ax = plt.subplots(figsize=(3,3))\n",
    "donut_plot( (n_multi_non, n_multi_chc),\n",
    "           inner_radius=0.6, ax=ax, colors=(non_color, chc_color),\n",
    "           labels=['Non-ChC \\n({})'.format(int(n_multi_non)),\n",
    "                   'ChC\\n({})'.format(int(n_multi_chc))])\n"
   ]
  },
  {
   "cell_type": "code",
   "execution_count": null,
   "metadata": {},
   "outputs": [],
   "source": [
    "min_th = [1, 2, 3, 4]\n",
    "n_multi_chc = np.array([np.sum(np.concatenate(aggregated_ais_syn_df['syns_chc'].apply(lambda x: np.array(x)[np.array(x)>=mx]))) for mx in min_th])\n",
    "n_multi_non = np.array([np.sum(np.concatenate(aggregated_ais_syn_df['syns_non'].apply(lambda x: np.array(x)[np.array(x)>=mx]))) for mx in min_th])"
   ]
  },
  {
   "cell_type": "code",
   "execution_count": null,
   "metadata": {},
   "outputs": [],
   "source": [
    "fig, ax = plt.subplots(figsize=(2,2))\n",
    "ax.set_ylim(0,1.1)\n",
    "ax.set_xticks(min_th)\n",
    "ax.set_xlabel('Min. Syn./Connection')\n",
    "ax.set_ylabel('Fraction ChC Syn.', color=chc_color)\n",
    "\n",
    "ax2 = ax.twinx()  \n",
    "ax2.plot(min_th, (n_multi_non+n_multi_chc), color='k', linestyle='-')\n",
    "ax2.set_ylabel('# AIS Syn.')\n",
    "ax2.set_ylim(0,2100)\n",
    "ax.plot(min_th, n_multi_chc/(n_multi_non+n_multi_chc), color=chc_color, marker='o', linestyle='-')\n",
    "\n",
    "sns.despine(offset=3, ax=ax2, right=False)\n",
    "sns.despine(offset=3, ax=ax)\n",
    "\n",
    "fig.savefig(plot_dir + '/fraction_from_chc_vs_non.pdf', bbox_inches=\"tight\")"
   ]
  },
  {
   "cell_type": "markdown",
   "metadata": {},
   "source": [
    "---"
   ]
  },
  {
   "cell_type": "code",
   "execution_count": null,
   "metadata": {},
   "outputs": [],
   "source": [
    "aggregated_ais_syn_df.columns"
   ]
  },
  {
   "cell_type": "code",
   "execution_count": null,
   "metadata": {},
   "outputs": [],
   "source": [
    "ax.plot(aggregated_ais_syn_df['num_cells_chc'], aggregated_ais_syn_df['syn_mean_chc'], marker='o', color='k', markersize=1, alpha=0.5, linestyle='none')\n"
   ]
  },
  {
   "cell_type": "code",
   "execution_count": null,
   "metadata": {},
   "outputs": [],
   "source": []
  },
  {
   "cell_type": "code",
   "execution_count": null,
   "metadata": {},
   "outputs": [],
   "source": [
    "fig, ax = plt.subplots(figsize=(1, 1), dpi=300)\n",
    "fg=sns.regplot(x='num_cells_chc', y='syn_mean_chc', data=aggregated_ais_syn_df, ax=ax, scatter_kws={'marker':'o', 'color':'k', 's':1, 'alpha':0.4},\n",
    "               line_kws={'color': chc_color, 'linewidth':1})\n",
    "ax.set_xticks(np.arange(1, 10))\n",
    "ax.set_yticks(np.arange(1, 8))\n",
    "sns.despine(ax=ax, offset=5)\n",
    "ax.set_xlabel('Num. Con.')\n",
    "ax.set_ylabel('Mean Syn./Con.')\n",
    "set_axis_fonts(ax=ax, tick_font={'size':5}, label_font={'size':5}, xtick_int=True)\n",
    "not_nan = ~np.isnan(aggregated_ais_syn_df['syn_mean_chc'])\n",
    "ax.set_title(f\"r={stats.pearsonr(aggregated_ais_syn_df['num_cells_chc'][not_nan], aggregated_ais_syn_df['syn_mean_chc'][not_nan])[0]:0.2f}, p={stats.pearsonr(aggregated_ais_syn_df['num_cells_chc'][not_nan], aggregated_ais_syn_df['syn_mean_chc'][not_nan])[1]:0.2f}\", fontdict={'size':5})\n",
    "ax.set_xlim(0, 9.5)\n",
    "plt.savefig(f\"{plot_dir}/syn_per_con_vs_num_con.pdf\", bbox_inches='tight')"
   ]
  },
  {
   "cell_type": "code",
   "execution_count": null,
   "metadata": {},
   "outputs": [],
   "source": [
    "c, x = np.histogram(edge_syn_chc, np.arange(0.5,9.5))"
   ]
  },
  {
   "cell_type": "code",
   "execution_count": null,
   "metadata": {},
   "outputs": [],
   "source": [
    "np.cumsum(c) / np.sum(c)"
   ]
  },
  {
   "cell_type": "code",
   "execution_count": null,
   "metadata": {},
   "outputs": [],
   "source": [
    "(np.cumsum(c * np.arange(1,9)) / np.sum(c * np.arange(1,9)))"
   ]
  },
  {
   "cell_type": "code",
   "execution_count": null,
   "metadata": {},
   "outputs": [],
   "source": []
  },
  {
   "cell_type": "code",
   "execution_count": null,
   "metadata": {},
   "outputs": [],
   "source": [
    "fig, ax = plt.subplots(figsize=(0.75,0.75), dpi=150)\n",
    "ax.plot([0, 9], [1,1], color=(0.7, 0.7, 0.7), linestyle='-', linewidth=0.75)\n",
    "ax.plot(np.arange(1,9), (np.cumsum(c * np.arange(1,9)) / np.sum(c * np.arange(1,9))), 'o--', color=chc_color, markersize=3, linewidth=1)\n",
    "ax.set_xticks(np.arange(1,9))\n",
    "ax.set_yticks([0,0.5,1])\n",
    "sns.despine(ax=ax, offset=1, trim=True)\n",
    "ax.set_ylabel('Cum. Frac. ChC Syn.')\n",
    "ax.set_xlabel('# ChC Syn. / Conn.')\n",
    "set_axis_fonts(ax=ax, tick_font={'size':5}, xtick_int=True, label_font={'size':6})\n",
    "fig.savefig(f'{plot_dir}/cumulative_synapses_by_connection_weight.pdf', bbox_inches='tight')"
   ]
  },
  {
   "cell_type": "code",
   "execution_count": null,
   "metadata": {},
   "outputs": [],
   "source": []
  }
 ],
 "metadata": {
  "kernelspec": {
   "display_name": "analysis",
   "language": "python",
   "name": "analysis"
  },
  "language_info": {
   "codemirror_mode": {
    "name": "ipython",
    "version": 3
   },
   "file_extension": ".py",
   "mimetype": "text/x-python",
   "name": "python",
   "nbconvert_exporter": "python",
   "pygments_lexer": "ipython3",
   "version": "3.8.6"
  }
 },
 "nbformat": 4,
 "nbformat_minor": 4
}
